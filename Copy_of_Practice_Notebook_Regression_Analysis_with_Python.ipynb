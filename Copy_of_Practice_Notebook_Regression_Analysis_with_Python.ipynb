{
  "nbformat": 4,
  "nbformat_minor": 0,
  "metadata": {
    "colab": {
      "name": "Copy of Practice Notebook: Regression Analysis with Python",
      "provenance": [],
      "collapsed_sections": [
        "lxjiQGpw1V9y",
        "Z10FEHDC1M_C",
        "bbxVxD3VjXfE",
        "6DveUDrgjbXh",
        "kHESK7PQjjrf",
        "5HXNf1GRO2GE",
        "UUAZgYrhj5ST",
        "dZnt55W161xq",
        "Ra8eyciQ61xt",
        "jSZ7_VHT61xu",
        "H2R0vl7qcj-9",
        "Sq2I8vJdcosx",
        "SEf8ok31dHcO",
        "VBR8j6zJ61xz",
        "R2B3dOoj61x0",
        "IgEBQBE07JH-",
        "eaPL6iDf7JIA",
        "tqWcOlZ97JIB",
        "rZdaSxPNmxW9",
        "PfdApR7Jmzm9",
        "1eBPjiM8m14s",
        "dgu9c21z7JIE",
        "gA_MBQoS7JIF",
        "RaeZQ2_t7eUC",
        "xFeIiJfV7eUF",
        "bEC2w3co7eUG",
        "ieW4rT26uUcL",
        "QmLWHKAmeSq1",
        "2QSb-k93uQLZ",
        "5UjUUJgY7eUJ",
        "LpbIBm897eUK"
      ],
      "toc_visible": true,
      "include_colab_link": true
    },
    "kernelspec": {
      "name": "python3",
      "display_name": "Python 3"
    }
  },
  "cells": [
    {
      "cell_type": "markdown",
      "metadata": {
        "id": "view-in-github",
        "colab_type": "text"
      },
      "source": [
        "<a href=\"https://colab.research.google.com/github/kachase/First-Repo/blob/master/Copy_of_Practice_Notebook_Regression_Analysis_with_Python.ipynb\" target=\"_parent\"><img src=\"https://colab.research.google.com/assets/colab-badge.svg\" alt=\"Open In Colab\"/></a>"
      ]
    },
    {
      "cell_type": "markdown",
      "metadata": {
        "id": "_XzGFitQl60K",
        "colab_type": "text"
      },
      "source": [
        "# Practice Notebook: Regression Analysis with Python"
      ]
    },
    {
      "cell_type": "markdown",
      "metadata": {
        "id": "8tAUAu98l-E6",
        "colab_type": "text"
      },
      "source": [
        "## 1. Simple Linear Regression"
      ]
    },
    {
      "cell_type": "markdown",
      "metadata": {
        "id": "AdqLGpdH_867",
        "colab_type": "text"
      },
      "source": [
        "#### <font color=\"blue\">Pre-requisites</font>"
      ]
    },
    {
      "cell_type": "code",
      "metadata": {
        "id": "Gxs3j_OJQ7my",
        "colab_type": "code",
        "colab": {}
      },
      "source": [
        "# The first thing that we will do is to import the required datasets\n",
        "# ---\n",
        "# OUR CODE GOES BELOW\n",
        "#  \n",
        "\n",
        "# Importing pandas for data manipulation\n",
        "# \n",
        "import pandas as pd \n",
        "\n",
        "# Importing numpy for mathematical functions\n",
        "import numpy as np\n",
        "\n",
        "# Importing matplotlib for creating visualisations\n",
        "# \n",
        "import matplotlib.pyplot as plt\n",
        "%matplotlib inline"
      ],
      "execution_count": 0,
      "outputs": []
    },
    {
      "cell_type": "markdown",
      "metadata": {
        "id": "o39LEL0PmKJa",
        "colab_type": "text"
      },
      "source": [
        "#### <font color=\"blue\">Example 1</font>"
      ]
    },
    {
      "cell_type": "markdown",
      "metadata": {
        "id": "BMXTATeJmOGX",
        "colab_type": "text"
      },
      "source": [
        "##### <font color=\"blue\">Example</font>"
      ]
    },
    {
      "cell_type": "code",
      "metadata": {
        "id": "Ql23JRMAlvv2",
        "colab_type": "code",
        "colab": {}
      },
      "source": [
        "# Example\n",
        "# --- \n",
        "# Question: Create a linear regression model to predict the output y given the input x from the dataset below.\n",
        "# ---\n",
        "# Dataset url = http://bit.ly/SimpleLinearRegresionDataset\n",
        "# ---\n",
        "# OUR CODE GOES BELOW\n",
        "# "
      ],
      "execution_count": 0,
      "outputs": []
    },
    {
      "cell_type": "markdown",
      "metadata": {
        "id": "Jo5xObcPABVI",
        "colab_type": "text"
      },
      "source": [
        "##### Step 1. Loading our Data "
      ]
    },
    {
      "cell_type": "code",
      "metadata": {
        "id": "71_0owU6DNQE",
        "colab_type": "code",
        "colab": {}
      },
      "source": [
        "# The first step that we will take is to import our dataset and store it in our dataframe named df\n",
        "# --- \n",
        "# \n",
        "df = pd.read_csv('http://bit.ly/SimpleLinearRegresionDataset')"
      ],
      "execution_count": 0,
      "outputs": []
    },
    {
      "cell_type": "markdown",
      "metadata": {
        "id": "P4BQ8leaAIK0",
        "colab_type": "text"
      },
      "source": [
        "##### Step 2. Checking the Data "
      ]
    },
    {
      "cell_type": "code",
      "metadata": {
        "id": "OxbiC833DYNU",
        "colab_type": "code",
        "outputId": "833d3fb2-4ba4-4f5b-b8bc-2663d0ee5fed",
        "colab": {
          "base_uri": "https://localhost:8080/",
          "height": 34
        }
      },
      "source": [
        "# We will then determine the size of our dataset using the keyword shape\n",
        "# ---\n",
        "# \n",
        "df.shape"
      ],
      "execution_count": 0,
      "outputs": [
        {
          "output_type": "execute_result",
          "data": {
            "text/plain": [
              "(700, 2)"
            ]
          },
          "metadata": {
            "tags": []
          },
          "execution_count": 103
        }
      ]
    },
    {
      "cell_type": "code",
      "metadata": {
        "id": "1kTseyUaD_7X",
        "colab_type": "code",
        "outputId": "a0bedf4d-5672-4fc8-8454-38c95c4a7c2d",
        "colab": {
          "base_uri": "https://localhost:8080/",
          "height": 204
        }
      },
      "source": [
        "# The preview our dataset using the head function()\n",
        "# ---\n",
        "#\n",
        "df.head()"
      ],
      "execution_count": 0,
      "outputs": [
        {
          "output_type": "execute_result",
          "data": {
            "text/html": [
              "<div>\n",
              "<style scoped>\n",
              "    .dataframe tbody tr th:only-of-type {\n",
              "        vertical-align: middle;\n",
              "    }\n",
              "\n",
              "    .dataframe tbody tr th {\n",
              "        vertical-align: top;\n",
              "    }\n",
              "\n",
              "    .dataframe thead th {\n",
              "        text-align: right;\n",
              "    }\n",
              "</style>\n",
              "<table border=\"1\" class=\"dataframe\">\n",
              "  <thead>\n",
              "    <tr style=\"text-align: right;\">\n",
              "      <th></th>\n",
              "      <th>x</th>\n",
              "      <th>y</th>\n",
              "    </tr>\n",
              "  </thead>\n",
              "  <tbody>\n",
              "    <tr>\n",
              "      <th>0</th>\n",
              "      <td>24.0</td>\n",
              "      <td>21.549452</td>\n",
              "    </tr>\n",
              "    <tr>\n",
              "      <th>1</th>\n",
              "      <td>50.0</td>\n",
              "      <td>47.464463</td>\n",
              "    </tr>\n",
              "    <tr>\n",
              "      <th>2</th>\n",
              "      <td>15.0</td>\n",
              "      <td>17.218656</td>\n",
              "    </tr>\n",
              "    <tr>\n",
              "      <th>3</th>\n",
              "      <td>38.0</td>\n",
              "      <td>36.586398</td>\n",
              "    </tr>\n",
              "    <tr>\n",
              "      <th>4</th>\n",
              "      <td>87.0</td>\n",
              "      <td>87.288984</td>\n",
              "    </tr>\n",
              "  </tbody>\n",
              "</table>\n",
              "</div>"
            ],
            "text/plain": [
              "      x          y\n",
              "0  24.0  21.549452\n",
              "1  50.0  47.464463\n",
              "2  15.0  17.218656\n",
              "3  38.0  36.586398\n",
              "4  87.0  87.288984"
            ]
          },
          "metadata": {
            "tags": []
          },
          "execution_count": 104
        }
      ]
    },
    {
      "cell_type": "code",
      "metadata": {
        "id": "x1HMWVJLEeB7",
        "colab_type": "code",
        "outputId": "8c2cc73a-c688-4692-b599-70e69d306ea3",
        "colab": {
          "base_uri": "https://localhost:8080/",
          "height": 297
        }
      },
      "source": [
        "# We can also display the statistical summary of our dataset. \n",
        "# ---\n",
        "# \n",
        "df.describe()"
      ],
      "execution_count": 0,
      "outputs": [
        {
          "output_type": "execute_result",
          "data": {
            "text/html": [
              "<div>\n",
              "<style scoped>\n",
              "    .dataframe tbody tr th:only-of-type {\n",
              "        vertical-align: middle;\n",
              "    }\n",
              "\n",
              "    .dataframe tbody tr th {\n",
              "        vertical-align: top;\n",
              "    }\n",
              "\n",
              "    .dataframe thead th {\n",
              "        text-align: right;\n",
              "    }\n",
              "</style>\n",
              "<table border=\"1\" class=\"dataframe\">\n",
              "  <thead>\n",
              "    <tr style=\"text-align: right;\">\n",
              "      <th></th>\n",
              "      <th>x</th>\n",
              "      <th>y</th>\n",
              "    </tr>\n",
              "  </thead>\n",
              "  <tbody>\n",
              "    <tr>\n",
              "      <th>count</th>\n",
              "      <td>700.000000</td>\n",
              "      <td>699.000000</td>\n",
              "    </tr>\n",
              "    <tr>\n",
              "      <th>mean</th>\n",
              "      <td>54.985939</td>\n",
              "      <td>49.939869</td>\n",
              "    </tr>\n",
              "    <tr>\n",
              "      <th>std</th>\n",
              "      <td>134.681703</td>\n",
              "      <td>29.109217</td>\n",
              "    </tr>\n",
              "    <tr>\n",
              "      <th>min</th>\n",
              "      <td>0.000000</td>\n",
              "      <td>-3.839981</td>\n",
              "    </tr>\n",
              "    <tr>\n",
              "      <th>25%</th>\n",
              "      <td>25.000000</td>\n",
              "      <td>24.929968</td>\n",
              "    </tr>\n",
              "    <tr>\n",
              "      <th>50%</th>\n",
              "      <td>49.000000</td>\n",
              "      <td>48.973020</td>\n",
              "    </tr>\n",
              "    <tr>\n",
              "      <th>75%</th>\n",
              "      <td>75.000000</td>\n",
              "      <td>74.929911</td>\n",
              "    </tr>\n",
              "    <tr>\n",
              "      <th>max</th>\n",
              "      <td>3530.157369</td>\n",
              "      <td>108.871618</td>\n",
              "    </tr>\n",
              "  </tbody>\n",
              "</table>\n",
              "</div>"
            ],
            "text/plain": [
              "                 x           y\n",
              "count   700.000000  699.000000\n",
              "mean     54.985939   49.939869\n",
              "std     134.681703   29.109217\n",
              "min       0.000000   -3.839981\n",
              "25%      25.000000   24.929968\n",
              "50%      49.000000   48.973020\n",
              "75%      75.000000   74.929911\n",
              "max    3530.157369  108.871618"
            ]
          },
          "metadata": {
            "tags": []
          },
          "execution_count": 6
        }
      ]
    },
    {
      "cell_type": "markdown",
      "metadata": {
        "id": "xusxA9SxAZ2E",
        "colab_type": "text"
      },
      "source": [
        "##### Step 3. Cleaning Our Data"
      ]
    },
    {
      "cell_type": "code",
      "metadata": {
        "id": "SG4iODLNq5lv",
        "colab_type": "code",
        "outputId": "13c658c8-f71d-43be-e3ea-d6d9dcde0021",
        "colab": {
          "base_uri": "https://localhost:8080/",
          "height": 68
        }
      },
      "source": [
        "# Lets confirm for missing values in our dataset. \n",
        "# We can already see from our summary that the count \n",
        "# of the y variable is not equal to x\n",
        "# ---\n",
        "#\n",
        "df.isnull().sum()\n",
        "\n",
        "# Observation \n",
        "# ---\n",
        "# One record has a missing"
      ],
      "execution_count": 0,
      "outputs": [
        {
          "output_type": "execute_result",
          "data": {
            "text/plain": [
              "x    0\n",
              "y    0\n",
              "dtype: int64"
            ]
          },
          "metadata": {
            "tags": []
          },
          "execution_count": 10
        }
      ]
    },
    {
      "cell_type": "code",
      "metadata": {
        "id": "XztWiGW7xaMk",
        "colab_type": "code",
        "colab": {}
      },
      "source": [
        "# We can then resolve to propping all records with N/A from our dataset\n",
        "# This would be for the reason that there won't be any significant effect in analysis.\n",
        "# ---\n",
        "#\n",
        "df = df.dropna() "
      ],
      "execution_count": 0,
      "outputs": []
    },
    {
      "cell_type": "code",
      "metadata": {
        "id": "NRB6-fVOxftx",
        "colab_type": "code",
        "outputId": "d6365973-73cb-41fc-f7f5-94eeeaf4e4b8",
        "colab": {
          "base_uri": "https://localhost:8080/",
          "height": 68
        }
      },
      "source": [
        "# Lets check again for missing values in our dataset\n",
        "# ---\n",
        "#\n",
        "df.isnull().sum()"
      ],
      "execution_count": 0,
      "outputs": [
        {
          "output_type": "execute_result",
          "data": {
            "text/plain": [
              "x    0\n",
              "y    0\n",
              "dtype: int64"
            ]
          },
          "metadata": {
            "tags": []
          },
          "execution_count": 108
        }
      ]
    },
    {
      "cell_type": "markdown",
      "metadata": {
        "id": "vrcZrvkxAT5V",
        "colab_type": "text"
      },
      "source": [
        "##### Step 4. Performing Exploratory Analysis"
      ]
    },
    {
      "cell_type": "code",
      "metadata": {
        "id": "8mK6q8rPFVtD",
        "colab_type": "code",
        "outputId": "be874e7d-6836-4a95-a87a-694370a77303",
        "colab": {
          "base_uri": "https://localhost:8080/",
          "height": 295
        }
      },
      "source": [
        "# We the perform exploratory analysis to understand more about our dataset\n",
        "# ---\n",
        "# In our case here, we will only find if there is any relationships between the two variables.\n",
        "# ---\n",
        "# \n",
        "df.plot(x='x', y='y', style='o')\n",
        "plt.title('x vs y')\n",
        "plt.xlabel('x')\n",
        "plt.ylabel('y')\n",
        "plt.show()\n",
        "\n",
        "# Observation\n",
        "# ---\n",
        "# Positive linear relation"
      ],
      "execution_count": 0,
      "outputs": [
        {
          "output_type": "display_data",
          "data": {
            "image/png": "[encoded data removed]",
            "text/plain": [
              "<Figure size 432x288 with 1 Axes>"
            ]
          },
          "metadata": {
            "tags": [],
            "needs_background": "light"
          }
        }
      ]
    },
    {
      "cell_type": "markdown",
      "metadata": {
        "id": "El-bGzLnAs79",
        "colab_type": "text"
      },
      "source": [
        "##### Step 5. Implementation and Evaluation"
      ]
    },
    {
      "cell_type": "code",
      "metadata": {
        "id": "Vdl8aB28GTPN",
        "colab_type": "code",
        "colab": {}
      },
      "source": [
        "# Data Preparation\n",
        "# ---\n",
        "# We now divide our data into \"attributes\" and \"labels\".\n",
        "# a) Attributes are the independent variables. \n",
        "# They will be stored in the X variable, specifying \"-1\" as the range for columns \n",
        "# since we want our attribute set to contain all the columns \n",
        "# except the last one which is \"scores\".\n",
        "# \n",
        "# b) Labels are the dependent variables. \n",
        "# They will be contained in the y variable, specifying 1 for the label colum \n",
        "# since the index for \"scores\" column is 1.\n",
        "# \n",
        "# * NB: Column indexes start with 0, 1 being the second, 2 being third etc.\n",
        "# - Because We are predicting the percentage score depending on hours studied, \n",
        "# our attribute set will consist of \"hours\", while the lable will be \"score\"\n",
        "# \n",
        "# * As we will get to see in another example, we can also specify the column names to \n",
        "# select our attributes and label \n",
        "# ---\n",
        "# \n",
        "X = df.iloc[:, :-1].values\n",
        "y = df.iloc[:, 1].values"
      ],
      "execution_count": 0,
      "outputs": []
    },
    {
      "cell_type": "code",
      "metadata": {
        "id": "3XJeYehR__an",
        "colab_type": "code",
        "colab": {}
      },
      "source": [
        "# Splitting the Dataset \n",
        "# ---\n",
        "# We split our dataset into training and test sets. 80% = training set, while 20% = test set\n",
        "# This means we will specify our parameter test_size below to have the value 0.2.\n",
        "# ---\n",
        "#\n",
        "\n",
        "# Before we preform the split, we will import the train_test_split function\n",
        "# which will help us perform this operation.\n",
        "# ---\n",
        "#\n",
        "from sklearn.model_selection import train_test_split\n",
        "\n",
        "# We then perform our split as show in the following line\n",
        "# ---\n",
        "# The test size of 0.2 indicates we’ve used 20% of the data for testing. \n",
        "# random_state ensures reproducibility. For the output of train_test_split, \n",
        "# we get X_train, X_test, y_train, and y_test values.\n",
        "# ---\n",
        "#\n",
        "X_train, X_test, y_train, y_test = train_test_split(X, y, test_size=0.2, random_state=0)"
      ],
      "execution_count": 0,
      "outputs": []
    },
    {
      "cell_type": "code",
      "metadata": {
        "id": "njvNngGiLlbq",
        "colab_type": "code",
        "outputId": "bce3ce91-2548-4dde-d772-9ed342d2ce47",
        "colab": {
          "base_uri": "https://localhost:8080/",
          "height": 34
        }
      },
      "source": [
        "# Training the Algorithm\n",
        "# ---\n",
        "# We are now ready to create our algorithm. This process is also referred to as \n",
        "# fitting in our model / fitting the regressor to the dataset.\n",
        "# ---\n",
        "#\n",
        "\n",
        "# First, we import our linear regression function\n",
        "# ---\n",
        "#\n",
        "from sklearn.linear_model import LinearRegression\n",
        "\n",
        "# Then train the algorithm\n",
        "# ---\n",
        "#\n",
        "regressor = LinearRegression()\n",
        "regressor.fit(X_train, y_train)"
      ],
      "execution_count": 0,
      "outputs": [
        {
          "output_type": "execute_result",
          "data": {
            "text/plain": [
              "LinearRegression(copy_X=True, fit_intercept=True, n_jobs=None, normalize=False)"
            ]
          },
          "metadata": {
            "tags": []
          },
          "execution_count": 112
        }
      ]
    },
    {
      "cell_type": "code",
      "metadata": {
        "id": "Fuprhv1kMACZ",
        "colab_type": "code",
        "colab": {}
      },
      "source": [
        "# Making Predictions\n",
        "# ---\n",
        "# After training our algorithm, we can now make some preditions\n",
        "# ---   \n",
        "# \n",
        "\n",
        "# We create the y_pred variable, which will be an array (numpy array) \n",
        "# that contains all the predicted values for the input values in the X_test series\n",
        "# ---\n",
        "#\n",
        "y_pred = regressor.predict(X_test)"
      ],
      "execution_count": 0,
      "outputs": []
    },
    {
      "cell_type": "code",
      "metadata": {
        "id": "_LOte2FfMeQ2",
        "colab_type": "code",
        "outputId": "92edbcf2-0a69-4308-a182-1515e923eec5",
        "colab": {
          "base_uri": "https://localhost:8080/",
          "height": 419
        }
      },
      "source": [
        "# Next, we compare actual output values for X_test with the predicted values\n",
        "# ---\n",
        "#\n",
        "df = pd.DataFrame({'Actual': y_test, 'Predicted': y_pred})\n",
        "df\n",
        "\n",
        "# We will note from the output that though our model is not very precise, \n",
        "# the predicted percentages are sometimes close to the actual ones."
      ],
      "execution_count": 0,
      "outputs": [
        {
          "output_type": "execute_result",
          "data": {
            "text/html": [
              "<div>\n",
              "<style scoped>\n",
              "    .dataframe tbody tr th:only-of-type {\n",
              "        vertical-align: middle;\n",
              "    }\n",
              "\n",
              "    .dataframe tbody tr th {\n",
              "        vertical-align: top;\n",
              "    }\n",
              "\n",
              "    .dataframe thead th {\n",
              "        text-align: right;\n",
              "    }\n",
              "</style>\n",
              "<table border=\"1\" class=\"dataframe\">\n",
              "  <thead>\n",
              "    <tr style=\"text-align: right;\">\n",
              "      <th></th>\n",
              "      <th>Actual</th>\n",
              "      <th>Predicted</th>\n",
              "    </tr>\n",
              "  </thead>\n",
              "  <tbody>\n",
              "    <tr>\n",
              "      <th>0</th>\n",
              "      <td>29.667360</td>\n",
              "      <td>28.979528</td>\n",
              "    </tr>\n",
              "    <tr>\n",
              "      <th>1</th>\n",
              "      <td>56.687188</td>\n",
              "      <td>57.930708</td>\n",
              "    </tr>\n",
              "    <tr>\n",
              "      <th>2</th>\n",
              "      <td>85.027790</td>\n",
              "      <td>83.886939</td>\n",
              "    </tr>\n",
              "    <tr>\n",
              "      <th>3</th>\n",
              "      <td>73.138500</td>\n",
              "      <td>75.900406</td>\n",
              "    </tr>\n",
              "    <tr>\n",
              "      <th>4</th>\n",
              "      <td>48.437538</td>\n",
              "      <td>53.937442</td>\n",
              "    </tr>\n",
              "    <tr>\n",
              "      <th>...</th>\n",
              "      <td>...</td>\n",
              "      <td>...</td>\n",
              "    </tr>\n",
              "    <tr>\n",
              "      <th>135</th>\n",
              "      <td>14.002263</td>\n",
              "      <td>16.001413</td>\n",
              "    </tr>\n",
              "    <tr>\n",
              "      <th>136</th>\n",
              "      <td>94.151492</td>\n",
              "      <td>96.865054</td>\n",
              "    </tr>\n",
              "    <tr>\n",
              "      <th>137</th>\n",
              "      <td>40.831821</td>\n",
              "      <td>42.955960</td>\n",
              "    </tr>\n",
              "    <tr>\n",
              "      <th>138</th>\n",
              "      <td>19.471008</td>\n",
              "      <td>18.996362</td>\n",
              "    </tr>\n",
              "    <tr>\n",
              "      <th>139</th>\n",
              "      <td>17.609462</td>\n",
              "      <td>18.996362</td>\n",
              "    </tr>\n",
              "  </tbody>\n",
              "</table>\n",
              "<p>140 rows × 2 columns</p>\n",
              "</div>"
            ],
            "text/plain": [
              "        Actual  Predicted\n",
              "0    29.667360  28.979528\n",
              "1    56.687188  57.930708\n",
              "2    85.027790  83.886939\n",
              "3    73.138500  75.900406\n",
              "4    48.437538  53.937442\n",
              "..         ...        ...\n",
              "135  14.002263  16.001413\n",
              "136  94.151492  96.865054\n",
              "137  40.831821  42.955960\n",
              "138  19.471008  18.996362\n",
              "139  17.609462  18.996362\n",
              "\n",
              "[140 rows x 2 columns]"
            ]
          },
          "metadata": {
            "tags": []
          },
          "execution_count": 114
        }
      ]
    },
    {
      "cell_type": "code",
      "metadata": {
        "id": "CnSCgAe5MsLD",
        "colab_type": "code",
        "outputId": "b9a9abd8-9aa2-4c5d-d078-a6d8528bbcd2",
        "colab": {
          "base_uri": "https://localhost:8080/",
          "height": 34
        }
      },
      "source": [
        "# Finally, we evaluate our model performance\n",
        "# --- \n",
        "# The final step is to evaluate the performance of algorithm. \n",
        "# Root Mean Squared Error (RMSE) is the square root of the mean of the squared errors.\n",
        "# ---  \n",
        "#\n",
        "from sklearn import metrics \n",
        "print('Root Mean Squared Error:', np.sqrt(metrics.mean_squared_error(y_test, y_pred)))\n",
        "\n",
        "# Observation\n",
        "# ---\n",
        "# Our root mean square 2.74 is less than 10% the mean of y which was 49. \n",
        "# This would mean our model was fairly accurate.\n",
        "# ---"
      ],
      "execution_count": 0,
      "outputs": [
        {
          "output_type": "stream",
          "text": [
            "Root Mean Squared Error: 2.7479975801256606\n"
          ],
          "name": "stdout"
        }
      ]
    },
    {
      "cell_type": "markdown",
      "metadata": {
        "id": "4eKKFvwwm0nk",
        "colab_type": "text"
      },
      "source": [
        "#### <font color=\"green\">Challenge 1</font>"
      ]
    },
    {
      "cell_type": "code",
      "metadata": {
        "colab_type": "code",
        "id": "izLkaYAMbRNt",
        "outputId": "71febb67-521c-4b1f-f70e-298c531df72e",
        "colab": {
          "base_uri": "https://localhost:8080/",
          "height": 197
        }
      },
      "source": [
        "\n",
        "# ---\n",
        "# \n",
        "X = data.columns(2)\n",
        "y = data.iloc[:, 1].values\n",
        "\n"
      ],
      "execution_count": 0,
      "outputs": [
        {
          "output_type": "error",
          "ename": "TypeError",
          "evalue": "ignored",
          "traceback": [
            "\u001b[0;31m---------------------------------------------------------------------------\u001b[0m",
            "\u001b[0;31mTypeError\u001b[0m                                 Traceback (most recent call last)",
            "\u001b[0;32m<ipython-input-50-1eaeb5763b07>\u001b[0m in \u001b[0;36m<module>\u001b[0;34m()\u001b[0m\n\u001b[0;32m----> 1\u001b[0;31m \u001b[0mX\u001b[0m \u001b[0;34m=\u001b[0m \u001b[0mdata\u001b[0m\u001b[0;34m.\u001b[0m\u001b[0mcolumns\u001b[0m\u001b[0;34m(\u001b[0m\u001b[0;36m2\u001b[0m\u001b[0;34m)\u001b[0m\u001b[0;34m\u001b[0m\u001b[0;34m\u001b[0m\u001b[0m\n\u001b[0m\u001b[1;32m      2\u001b[0m \u001b[0my\u001b[0m \u001b[0;34m=\u001b[0m \u001b[0mdata\u001b[0m\u001b[0;34m.\u001b[0m\u001b[0miloc\u001b[0m\u001b[0;34m[\u001b[0m\u001b[0;34m:\u001b[0m\u001b[0;34m,\u001b[0m \u001b[0;36m1\u001b[0m\u001b[0;34m]\u001b[0m\u001b[0;34m.\u001b[0m\u001b[0mvalues\u001b[0m\u001b[0;34m\u001b[0m\u001b[0;34m\u001b[0m\u001b[0m\n\u001b[1;32m      3\u001b[0m \u001b[0mprint\u001b[0m\u001b[0;34m(\u001b[0m\u001b[0mX\u001b[0m\u001b[0;34m)\u001b[0m\u001b[0;34m\u001b[0m\u001b[0;34m\u001b[0m\u001b[0m\n",
            "\u001b[0;31mTypeError\u001b[0m: 'Index' object is not callable"
          ]
        }
      ]
    },
    {
      "cell_type": "code",
      "metadata": {
        "colab_type": "code",
        "id": "SRLL7bBoZD_Z",
        "colab": {}
      },
      "source": [
        "# Splitting the Dataset \n",
        "\n",
        "\n",
        "from sklearn.model_selection import train_test_split\n",
        "\n",
        "\n",
        "# we get X_train, X_test, y_train, and y_test values.\n",
        "\n",
        "X_train, X_test, y_train, y_test = train_test_split(X, y, test_size=0.2, random_state=0)\n"
      ],
      "execution_count": 0,
      "outputs": []
    },
    {
      "cell_type": "code",
      "metadata": {
        "id": "WqaPaEptaNmR",
        "colab_type": "code",
        "colab": {}
      },
      "source": [
        ""
      ],
      "execution_count": 0,
      "outputs": []
    },
    {
      "cell_type": "code",
      "metadata": {
        "colab_type": "code",
        "outputId": "15b7a74a-05f4-4b3e-e9ca-eec1d8b039b0",
        "id": "bxU7yXbEaON0",
        "colab": {
          "base_uri": "https://localhost:8080/",
          "height": 34
        }
      },
      "source": [
        "# Training the Algorithm\n",
        "# ---\n",
        "\n",
        "# ---\n",
        "#\n",
        "\n",
        "# First, we import our linear regression function\n",
        "# ---\n",
        "#\n",
        "from sklearn.linear_model import LinearRegression\n",
        "\n",
        "# Then train the algorithm\n",
        "# ---\n",
        "#\n",
        "regressor = LinearRegression()\n",
        "regressor.fit(X_train, y_train)"
      ],
      "execution_count": 0,
      "outputs": [
        {
          "output_type": "execute_result",
          "data": {
            "text/plain": [
              "LinearRegression(copy_X=True, fit_intercept=True, n_jobs=None, normalize=False)"
            ]
          },
          "metadata": {
            "tags": []
          },
          "execution_count": 47
        }
      ]
    },
    {
      "cell_type": "code",
      "metadata": {
        "id": "878cuuVPalga",
        "colab_type": "code",
        "colab": {}
      },
      "source": [
        ""
      ],
      "execution_count": 0,
      "outputs": []
    },
    {
      "cell_type": "code",
      "metadata": {
        "colab_type": "code",
        "id": "HIklfWHUamdB",
        "colab": {}
      },
      "source": [
        "# Making Predictions\n",
        "# ---\n",
        "# After training our algorithm, we can now make some preditions\n",
        "# ---   \n",
        "# \n",
        "\n",
        "# We create the y_pred variable, which will be an array (numpy array) \n",
        "# that contains all the predicted values for the input values in the X_test series\n",
        "# ---\n",
        "#\n",
        "y_pred = regressor.predict(X_test)\n",
        "\n"
      ],
      "execution_count": 0,
      "outputs": []
    },
    {
      "cell_type": "code",
      "metadata": {
        "colab_type": "code",
        "outputId": "c09f49d9-ae9a-4a22-98df-6e3ef22c2d6f",
        "id": "W42_NXOteRtm",
        "colab": {
          "base_uri": "https://localhost:8080/",
          "height": 419
        }
      },
      "source": [
        "# Next, we compare actual output values for X_test with the predicted values\n",
        "# ---\n",
        "#\n",
        "data = pd.DataFrame({'Actual': y_test, 'Predicted': y_pred})\n",
        "data\n",
        "# We will note from the output that though our model is not very precise, \n",
        "# the predicted percentages are sometimes close to the actual ones."
      ],
      "execution_count": 0,
      "outputs": [
        {
          "output_type": "execute_result",
          "data": {
            "text/html": [
              "<div>\n",
              "<style scoped>\n",
              "    .dataframe tbody tr th:only-of-type {\n",
              "        vertical-align: middle;\n",
              "    }\n",
              "\n",
              "    .dataframe tbody tr th {\n",
              "        vertical-align: top;\n",
              "    }\n",
              "\n",
              "    .dataframe thead th {\n",
              "        text-align: right;\n",
              "    }\n",
              "</style>\n",
              "<table border=\"1\" class=\"dataframe\">\n",
              "  <thead>\n",
              "    <tr style=\"text-align: right;\">\n",
              "      <th></th>\n",
              "      <th>Actual</th>\n",
              "      <th>Predicted</th>\n",
              "    </tr>\n",
              "  </thead>\n",
              "  <tbody>\n",
              "    <tr>\n",
              "      <th>0</th>\n",
              "      <td>29.667360</td>\n",
              "      <td>28.979528</td>\n",
              "    </tr>\n",
              "    <tr>\n",
              "      <th>1</th>\n",
              "      <td>56.687188</td>\n",
              "      <td>57.930708</td>\n",
              "    </tr>\n",
              "    <tr>\n",
              "      <th>2</th>\n",
              "      <td>85.027790</td>\n",
              "      <td>83.886939</td>\n",
              "    </tr>\n",
              "    <tr>\n",
              "      <th>3</th>\n",
              "      <td>73.138500</td>\n",
              "      <td>75.900406</td>\n",
              "    </tr>\n",
              "    <tr>\n",
              "      <th>4</th>\n",
              "      <td>48.437538</td>\n",
              "      <td>53.937442</td>\n",
              "    </tr>\n",
              "    <tr>\n",
              "      <th>...</th>\n",
              "      <td>...</td>\n",
              "      <td>...</td>\n",
              "    </tr>\n",
              "    <tr>\n",
              "      <th>135</th>\n",
              "      <td>14.002263</td>\n",
              "      <td>16.001413</td>\n",
              "    </tr>\n",
              "    <tr>\n",
              "      <th>136</th>\n",
              "      <td>94.151492</td>\n",
              "      <td>96.865054</td>\n",
              "    </tr>\n",
              "    <tr>\n",
              "      <th>137</th>\n",
              "      <td>40.831821</td>\n",
              "      <td>42.955960</td>\n",
              "    </tr>\n",
              "    <tr>\n",
              "      <th>138</th>\n",
              "      <td>19.471008</td>\n",
              "      <td>18.996362</td>\n",
              "    </tr>\n",
              "    <tr>\n",
              "      <th>139</th>\n",
              "      <td>17.609462</td>\n",
              "      <td>18.996362</td>\n",
              "    </tr>\n",
              "  </tbody>\n",
              "</table>\n",
              "<p>140 rows × 2 columns</p>\n",
              "</div>"
            ],
            "text/plain": [
              "        Actual  Predicted\n",
              "0    29.667360  28.979528\n",
              "1    56.687188  57.930708\n",
              "2    85.027790  83.886939\n",
              "3    73.138500  75.900406\n",
              "4    48.437538  53.937442\n",
              "..         ...        ...\n",
              "135  14.002263  16.001413\n",
              "136  94.151492  96.865054\n",
              "137  40.831821  42.955960\n",
              "138  19.471008  18.996362\n",
              "139  17.609462  18.996362\n",
              "\n",
              "[140 rows x 2 columns]"
            ]
          },
          "metadata": {
            "tags": []
          },
          "execution_count": 39
        }
      ]
    },
    {
      "cell_type": "code",
      "metadata": {
        "id": "2rNud-d6ejNp",
        "colab_type": "code",
        "colab": {}
      },
      "source": [
        ""
      ],
      "execution_count": 0,
      "outputs": []
    },
    {
      "cell_type": "code",
      "metadata": {
        "colab_type": "code",
        "outputId": "67f4d406-4cd5-4af4-dfff-a714fc0cac32",
        "id": "ETiGUgTKekBA",
        "colab": {
          "base_uri": "https://localhost:8080/",
          "height": 34
        }
      },
      "source": [
        "# Finally, we evaluate our model performance\n",
        "# --- \n",
        "# The final step is to evaluate the performance of algorithm. \n",
        "# Root Mean Squared Error (RMSE) is the square root of the mean of the squared errors.\n",
        "# ---  \n",
        "#\n",
        "from sklearn import metrics \n",
        "print('Root Mean Squared Error:', np.sqrt(metrics.mean_squared_error(y_test, y_pred)))\n",
        "\n",
        "# Observation\n",
        "# ---\n",
        "# Our root mean square 2.74 is less than 10% the mean of y which was 49. \n",
        "# This would mean our model was fairly accurate.\n",
        "# ---"
      ],
      "execution_count": 0,
      "outputs": [
        {
          "output_type": "stream",
          "text": [
            "Root Mean Squared Error: 2.1926801977576607\n"
          ],
          "name": "stdout"
        }
      ]
    },
    {
      "cell_type": "markdown",
      "metadata": {
        "colab_type": "text",
        "id": "VeNigGva1M-9"
      },
      "source": [
        "## 2. Multiple Linear Regression"
      ]
    },
    {
      "cell_type": "code",
      "metadata": {
        "id": "JXaY847Vaj92",
        "colab_type": "code",
        "colab": {}
      },
      "source": [
        ""
      ],
      "execution_count": 0,
      "outputs": []
    },
    {
      "cell_type": "markdown",
      "metadata": {
        "colab_type": "text",
        "id": "lxjiQGpw1V9y"
      },
      "source": [
        "#### <font color=\"blue\">Example 2</font>"
      ]
    },
    {
      "cell_type": "markdown",
      "metadata": {
        "colab_type": "text",
        "id": "Z10FEHDC1M_C"
      },
      "source": [
        "##### <font color=\"blue\">Example</font>"
      ]
    },
    {
      "cell_type": "code",
      "metadata": {
        "colab_type": "code",
        "id": "wGnslYbo1M_C",
        "colab": {}
      },
      "source": [
        "# Example\n",
        "# --- \n",
        "# Question: Create a multiple linear regression model to predict \n",
        "# the weight of fish given the following dataset.\n",
        "# ---\n",
        "# Dataset url = http://bit.ly/MRFishDataset\n",
        "# ---\n",
        "# OUR CODE GOES BELOW\n",
        "import numpy as np\n",
        "import pandas as pd\n"
      ],
      "execution_count": 0,
      "outputs": []
    },
    {
      "cell_type": "markdown",
      "metadata": {
        "id": "bbxVxD3VjXfE",
        "colab_type": "text"
      },
      "source": [
        "##### Step 1. Loading our Data "
      ]
    },
    {
      "cell_type": "code",
      "metadata": {
        "id": "TgHp_xtPPOep",
        "colab_type": "code",
        "colab": {}
      },
      "source": [
        "# Loading our dataset\n",
        "#\n",
        "fish_df = pd.read_csv('http://bit.ly/MRFishDataset')"
      ],
      "execution_count": 0,
      "outputs": []
    },
    {
      "cell_type": "markdown",
      "metadata": {
        "id": "6DveUDrgjbXh",
        "colab_type": "text"
      },
      "source": [
        "##### Step 2. Checking the Data "
      ]
    },
    {
      "cell_type": "code",
      "metadata": {
        "id": "5btP_BPrPPpf",
        "colab_type": "code",
        "outputId": "68f483b5-4549-42cd-9381-76ab7f6481f1",
        "colab": {
          "base_uri": "https://localhost:8080/",
          "height": 204
        }
      },
      "source": [
        "# Previewing the dataset\n",
        "# \n",
        "fish_df.head()"
      ],
      "execution_count": 5,
      "outputs": [
        {
          "output_type": "execute_result",
          "data": {
            "text/html": [
              "<div>\n",
              "<style scoped>\n",
              "    .dataframe tbody tr th:only-of-type {\n",
              "        vertical-align: middle;\n",
              "    }\n",
              "\n",
              "    .dataframe tbody tr th {\n",
              "        vertical-align: top;\n",
              "    }\n",
              "\n",
              "    .dataframe thead th {\n",
              "        text-align: right;\n",
              "    }\n",
              "</style>\n",
              "<table border=\"1\" class=\"dataframe\">\n",
              "  <thead>\n",
              "    <tr style=\"text-align: right;\">\n",
              "      <th></th>\n",
              "      <th>Species</th>\n",
              "      <th>Weight</th>\n",
              "      <th>Length1</th>\n",
              "      <th>Length2</th>\n",
              "      <th>Length3</th>\n",
              "      <th>Height</th>\n",
              "      <th>Width</th>\n",
              "    </tr>\n",
              "  </thead>\n",
              "  <tbody>\n",
              "    <tr>\n",
              "      <th>0</th>\n",
              "      <td>Bream</td>\n",
              "      <td>242.0</td>\n",
              "      <td>23.2</td>\n",
              "      <td>25.4</td>\n",
              "      <td>30.0</td>\n",
              "      <td>11.5200</td>\n",
              "      <td>4.0200</td>\n",
              "    </tr>\n",
              "    <tr>\n",
              "      <th>1</th>\n",
              "      <td>Bream</td>\n",
              "      <td>290.0</td>\n",
              "      <td>24.0</td>\n",
              "      <td>26.3</td>\n",
              "      <td>31.2</td>\n",
              "      <td>12.4800</td>\n",
              "      <td>4.3056</td>\n",
              "    </tr>\n",
              "    <tr>\n",
              "      <th>2</th>\n",
              "      <td>Bream</td>\n",
              "      <td>340.0</td>\n",
              "      <td>23.9</td>\n",
              "      <td>26.5</td>\n",
              "      <td>31.1</td>\n",
              "      <td>12.3778</td>\n",
              "      <td>4.6961</td>\n",
              "    </tr>\n",
              "    <tr>\n",
              "      <th>3</th>\n",
              "      <td>Bream</td>\n",
              "      <td>363.0</td>\n",
              "      <td>26.3</td>\n",
              "      <td>29.0</td>\n",
              "      <td>33.5</td>\n",
              "      <td>12.7300</td>\n",
              "      <td>4.4555</td>\n",
              "    </tr>\n",
              "    <tr>\n",
              "      <th>4</th>\n",
              "      <td>Bream</td>\n",
              "      <td>430.0</td>\n",
              "      <td>26.5</td>\n",
              "      <td>29.0</td>\n",
              "      <td>34.0</td>\n",
              "      <td>12.4440</td>\n",
              "      <td>5.1340</td>\n",
              "    </tr>\n",
              "  </tbody>\n",
              "</table>\n",
              "</div>"
            ],
            "text/plain": [
              "  Species  Weight  Length1  Length2  Length3   Height   Width\n",
              "0   Bream   242.0     23.2     25.4     30.0  11.5200  4.0200\n",
              "1   Bream   290.0     24.0     26.3     31.2  12.4800  4.3056\n",
              "2   Bream   340.0     23.9     26.5     31.1  12.3778  4.6961\n",
              "3   Bream   363.0     26.3     29.0     33.5  12.7300  4.4555\n",
              "4   Bream   430.0     26.5     29.0     34.0  12.4440  5.1340"
            ]
          },
          "metadata": {
            "tags": []
          },
          "execution_count": 5
        }
      ]
    },
    {
      "cell_type": "code",
      "metadata": {
        "id": "7jhvguJrPRcT",
        "colab_type": "code",
        "outputId": "30e08e53-7baf-4333-81a6-22c99d4d25f1",
        "colab": {
          "base_uri": "https://localhost:8080/",
          "height": 297
        }
      },
      "source": [
        "# Previewing the statistical summary of our dataset\n",
        "# \n",
        "fish_df.describe()"
      ],
      "execution_count": 7,
      "outputs": [
        {
          "output_type": "execute_result",
          "data": {
            "text/html": [
              "<div>\n",
              "<style scoped>\n",
              "    .dataframe tbody tr th:only-of-type {\n",
              "        vertical-align: middle;\n",
              "    }\n",
              "\n",
              "    .dataframe tbody tr th {\n",
              "        vertical-align: top;\n",
              "    }\n",
              "\n",
              "    .dataframe thead th {\n",
              "        text-align: right;\n",
              "    }\n",
              "</style>\n",
              "<table border=\"1\" class=\"dataframe\">\n",
              "  <thead>\n",
              "    <tr style=\"text-align: right;\">\n",
              "      <th></th>\n",
              "      <th>Weight</th>\n",
              "      <th>Length1</th>\n",
              "      <th>Length2</th>\n",
              "      <th>Length3</th>\n",
              "      <th>Height</th>\n",
              "      <th>Width</th>\n",
              "    </tr>\n",
              "  </thead>\n",
              "  <tbody>\n",
              "    <tr>\n",
              "      <th>count</th>\n",
              "      <td>159.000000</td>\n",
              "      <td>159.000000</td>\n",
              "      <td>159.000000</td>\n",
              "      <td>159.000000</td>\n",
              "      <td>159.000000</td>\n",
              "      <td>159.000000</td>\n",
              "    </tr>\n",
              "    <tr>\n",
              "      <th>mean</th>\n",
              "      <td>398.326415</td>\n",
              "      <td>26.247170</td>\n",
              "      <td>28.415723</td>\n",
              "      <td>31.227044</td>\n",
              "      <td>8.970994</td>\n",
              "      <td>4.417486</td>\n",
              "    </tr>\n",
              "    <tr>\n",
              "      <th>std</th>\n",
              "      <td>357.978317</td>\n",
              "      <td>9.996441</td>\n",
              "      <td>10.716328</td>\n",
              "      <td>11.610246</td>\n",
              "      <td>4.286208</td>\n",
              "      <td>1.685804</td>\n",
              "    </tr>\n",
              "    <tr>\n",
              "      <th>min</th>\n",
              "      <td>0.000000</td>\n",
              "      <td>7.500000</td>\n",
              "      <td>8.400000</td>\n",
              "      <td>8.800000</td>\n",
              "      <td>1.728400</td>\n",
              "      <td>1.047600</td>\n",
              "    </tr>\n",
              "    <tr>\n",
              "      <th>25%</th>\n",
              "      <td>120.000000</td>\n",
              "      <td>19.050000</td>\n",
              "      <td>21.000000</td>\n",
              "      <td>23.150000</td>\n",
              "      <td>5.944800</td>\n",
              "      <td>3.385650</td>\n",
              "    </tr>\n",
              "    <tr>\n",
              "      <th>50%</th>\n",
              "      <td>273.000000</td>\n",
              "      <td>25.200000</td>\n",
              "      <td>27.300000</td>\n",
              "      <td>29.400000</td>\n",
              "      <td>7.786000</td>\n",
              "      <td>4.248500</td>\n",
              "    </tr>\n",
              "    <tr>\n",
              "      <th>75%</th>\n",
              "      <td>650.000000</td>\n",
              "      <td>32.700000</td>\n",
              "      <td>35.500000</td>\n",
              "      <td>39.650000</td>\n",
              "      <td>12.365900</td>\n",
              "      <td>5.584500</td>\n",
              "    </tr>\n",
              "    <tr>\n",
              "      <th>max</th>\n",
              "      <td>1650.000000</td>\n",
              "      <td>59.000000</td>\n",
              "      <td>63.400000</td>\n",
              "      <td>68.000000</td>\n",
              "      <td>18.957000</td>\n",
              "      <td>8.142000</td>\n",
              "    </tr>\n",
              "  </tbody>\n",
              "</table>\n",
              "</div>"
            ],
            "text/plain": [
              "            Weight     Length1     Length2     Length3      Height       Width\n",
              "count   159.000000  159.000000  159.000000  159.000000  159.000000  159.000000\n",
              "mean    398.326415   26.247170   28.415723   31.227044    8.970994    4.417486\n",
              "std     357.978317    9.996441   10.716328   11.610246    4.286208    1.685804\n",
              "min       0.000000    7.500000    8.400000    8.800000    1.728400    1.047600\n",
              "25%     120.000000   19.050000   21.000000   23.150000    5.944800    3.385650\n",
              "50%     273.000000   25.200000   27.300000   29.400000    7.786000    4.248500\n",
              "75%     650.000000   32.700000   35.500000   39.650000   12.365900    5.584500\n",
              "max    1650.000000   59.000000   63.400000   68.000000   18.957000    8.142000"
            ]
          },
          "metadata": {
            "tags": []
          },
          "execution_count": 7
        }
      ]
    },
    {
      "cell_type": "markdown",
      "metadata": {
        "colab_type": "text",
        "id": "kHESK7PQjjrf"
      },
      "source": [
        "##### Step 3. Cleaning Our Data"
      ]
    },
    {
      "cell_type": "markdown",
      "metadata": {
        "id": "HC99WBGE3S38",
        "colab_type": "text"
      },
      "source": [
        "So far from what we've observed from in dataset, we don't need to perform any cleaning."
      ]
    },
    {
      "cell_type": "markdown",
      "metadata": {
        "id": "5HXNf1GRO2GE",
        "colab_type": "text"
      },
      "source": [
        "##### Step 4. Performing Exploratory Analysis"
      ]
    },
    {
      "cell_type": "code",
      "metadata": {
        "id": "uZl_EtiqORRh",
        "colab_type": "code",
        "outputId": "1ff36487-989a-484a-8226-aa84aa3e81a3",
        "colab": {
          "base_uri": "https://localhost:8080/",
          "height": 235
        }
      },
      "source": [
        "## Performing Exploratory Analysis\n",
        "# ---\n",
        "# This time we will plot a correlation matrix, to determine the relationships between the different variables.\n",
        "# This matrix will give us a sense of how well the variables are correlated. By this we mean, whether an\n",
        "# increase or decrease in variable affects the other variable. \n",
        "# To break this down further, the matrix will provide us with values between -1 and 1. If the value between\n",
        "# two variables is closer to 1 i.e. > 0.5, then it means the variables are strongly correlated, have a positive linear \n",
        "# relationship and it also means that as one value increases the other increases.\n",
        "# On the other hand, of the value is less than -0.5, it would mean that the variables are strongly correlated but \n",
        "# have a negative linear relationship. \n",
        "# If the value is 0 or < -0.5 or < 0.5 it means that the variables don't have any relationship with each other.\n",
        "# ---\n",
        "# Understanding whether our label i.e. Weight has a high correlation with other variables, helps us to deal \n",
        "# with the concept of Multicollinearity which would weaken the statistical power of your regression model. \n",
        "# For now, Multicollinearity is a topic beyond the scope of our session. However, it is usually important to \n",
        "# note that having highly correlated variables within our dataset weakens our model.\n",
        "# ---\n",
        "#\n",
        "corrMatrix = fish_df.corr()\n",
        "corrMatrix"
      ],
      "execution_count": 9,
      "outputs": [
        {
          "output_type": "execute_result",
          "data": {
            "text/html": [
              "<div>\n",
              "<style scoped>\n",
              "    .dataframe tbody tr th:only-of-type {\n",
              "        vertical-align: middle;\n",
              "    }\n",
              "\n",
              "    .dataframe tbody tr th {\n",
              "        vertical-align: top;\n",
              "    }\n",
              "\n",
              "    .dataframe thead th {\n",
              "        text-align: right;\n",
              "    }\n",
              "</style>\n",
              "<table border=\"1\" class=\"dataframe\">\n",
              "  <thead>\n",
              "    <tr style=\"text-align: right;\">\n",
              "      <th></th>\n",
              "      <th>Weight</th>\n",
              "      <th>Length1</th>\n",
              "      <th>Length2</th>\n",
              "      <th>Length3</th>\n",
              "      <th>Height</th>\n",
              "      <th>Width</th>\n",
              "    </tr>\n",
              "  </thead>\n",
              "  <tbody>\n",
              "    <tr>\n",
              "      <th>Weight</th>\n",
              "      <td>1.000000</td>\n",
              "      <td>0.915712</td>\n",
              "      <td>0.918618</td>\n",
              "      <td>0.923044</td>\n",
              "      <td>0.724345</td>\n",
              "      <td>0.886507</td>\n",
              "    </tr>\n",
              "    <tr>\n",
              "      <th>Length1</th>\n",
              "      <td>0.915712</td>\n",
              "      <td>1.000000</td>\n",
              "      <td>0.999517</td>\n",
              "      <td>0.992031</td>\n",
              "      <td>0.625378</td>\n",
              "      <td>0.867050</td>\n",
              "    </tr>\n",
              "    <tr>\n",
              "      <th>Length2</th>\n",
              "      <td>0.918618</td>\n",
              "      <td>0.999517</td>\n",
              "      <td>1.000000</td>\n",
              "      <td>0.994103</td>\n",
              "      <td>0.640441</td>\n",
              "      <td>0.873547</td>\n",
              "    </tr>\n",
              "    <tr>\n",
              "      <th>Length3</th>\n",
              "      <td>0.923044</td>\n",
              "      <td>0.992031</td>\n",
              "      <td>0.994103</td>\n",
              "      <td>1.000000</td>\n",
              "      <td>0.703409</td>\n",
              "      <td>0.878520</td>\n",
              "    </tr>\n",
              "    <tr>\n",
              "      <th>Height</th>\n",
              "      <td>0.724345</td>\n",
              "      <td>0.625378</td>\n",
              "      <td>0.640441</td>\n",
              "      <td>0.703409</td>\n",
              "      <td>1.000000</td>\n",
              "      <td>0.792881</td>\n",
              "    </tr>\n",
              "    <tr>\n",
              "      <th>Width</th>\n",
              "      <td>0.886507</td>\n",
              "      <td>0.867050</td>\n",
              "      <td>0.873547</td>\n",
              "      <td>0.878520</td>\n",
              "      <td>0.792881</td>\n",
              "      <td>1.000000</td>\n",
              "    </tr>\n",
              "  </tbody>\n",
              "</table>\n",
              "</div>"
            ],
            "text/plain": [
              "           Weight   Length1   Length2   Length3    Height     Width\n",
              "Weight   1.000000  0.915712  0.918618  0.923044  0.724345  0.886507\n",
              "Length1  0.915712  1.000000  0.999517  0.992031  0.625378  0.867050\n",
              "Length2  0.918618  0.999517  1.000000  0.994103  0.640441  0.873547\n",
              "Length3  0.923044  0.992031  0.994103  1.000000  0.703409  0.878520\n",
              "Height   0.724345  0.625378  0.640441  0.703409  1.000000  0.792881\n",
              "Width    0.886507  0.867050  0.873547  0.878520  0.792881  1.000000"
            ]
          },
          "metadata": {
            "tags": []
          },
          "execution_count": 9
        }
      ]
    },
    {
      "cell_type": "code",
      "metadata": {
        "id": "LJNJsWRvO7I4",
        "colab_type": "code",
        "outputId": "5d65f248-1756-4a9f-a1f3-cebc3ad83709",
        "colab": {
          "base_uri": "https://localhost:8080/",
          "height": 613
        }
      },
      "source": [
        "# We can plot a visualisation of the matrix for better clarity\n",
        "# --- \n",
        "# \n",
        "import seaborn as sns\n",
        "import matplotlib.pyplot as plt\n",
        "\n",
        "\n",
        "# We define how big we want our visualisation\n",
        "# \n",
        "plt.figure(figsize=(10, 10)) \n",
        "\n",
        "# Creating our visualisation\n",
        "# \n",
        "sns.heatmap(corrMatrix, annot = True) "
      ],
      "execution_count": 11,
      "outputs": [
        {
          "output_type": "execute_result",
          "data": {
            "text/plain": [
              "<matplotlib.axes._subplots.AxesSubplot at 0x7f02bb07e908>"
            ]
          },
          "metadata": {
            "tags": []
          },
          "execution_count": 11
        },
        {
          "output_type": "display_data",
          "data": {
            "image/png": "[encoded data removed]",
            "text/plain": [
              "<Figure size 720x720 with 2 Axes>"
            ]
          },
          "metadata": {
            "tags": [],
            "needs_background": "light"
          }
        }
      ]
    },
    {
      "cell_type": "markdown",
      "metadata": {
        "id": "UUAZgYrhj5ST",
        "colab_type": "text"
      },
      "source": [
        "##### Step 5. Implementation and Evaluation\n",
        "\n",
        " "
      ]
    },
    {
      "cell_type": "code",
      "metadata": {
        "id": "sCzgundxVcbM",
        "colab_type": "code",
        "colab": {
          "base_uri": "https://localhost:8080/",
          "height": 221
        },
        "outputId": "b7cf0ca4-025b-4939-cd0f-28f469c105fc"
      },
      "source": [
        "# We will now quickly prepare our dataset so that we can fit our model\n",
        "# ---\n",
        "# We divide our data into attributes and labels. \n",
        "# This time, we use column names for creating an attribute set and label.\n",
        "# ---\n",
        "# \n",
        "X = fish_df[['Length1', 'Length2', 'Length3',\n",
        "       'Height', 'Width']]\n",
        "y = fish_df['Weight']\n",
        "X\n",
        "y"
      ],
      "execution_count": 14,
      "outputs": [
        {
          "output_type": "execute_result",
          "data": {
            "text/plain": [
              "0      242.0\n",
              "1      290.0\n",
              "2      340.0\n",
              "3      363.0\n",
              "4      430.0\n",
              "       ...  \n",
              "154     12.2\n",
              "155     13.4\n",
              "156     12.2\n",
              "157     19.7\n",
              "158     19.9\n",
              "Name: Weight, Length: 159, dtype: float64"
            ]
          },
          "metadata": {
            "tags": []
          },
          "execution_count": 14
        }
      ]
    },
    {
      "cell_type": "code",
      "metadata": {
        "id": "nar8v13jSxpZ",
        "colab_type": "code",
        "colab": {}
      },
      "source": [
        ""
      ],
      "execution_count": 0,
      "outputs": []
    },
    {
      "cell_type": "code",
      "metadata": {
        "id": "sBZYIFeviCG3",
        "colab_type": "code",
        "colab": {}
      },
      "source": [
        "# We then Split our datset\n",
        "# ---\n",
        "# We split our dataset into training and test sets. 80% = training set, while 20% = test set\n",
        "# ---\n",
        "#\n",
        "\n",
        "# Firstly, importing our train_test_split function\n",
        "# ---\n",
        "#\n",
        "from sklearn.model_selection import train_test_split\n",
        "\n",
        "# Performing our split\n",
        "# ---\n",
        "# \n",
        "X_train, X_test, y_train, y_test = train_test_split(X, y, test_size=0.2, random_state=0)"
      ],
      "execution_count": 0,
      "outputs": []
    },
    {
      "cell_type": "code",
      "metadata": {
        "id": "_TheNaijig7U",
        "colab_type": "code",
        "outputId": "7c4b113a-fafd-4016-d0ee-b4d84645e78d",
        "colab": {
          "base_uri": "https://localhost:8080/",
          "height": 34
        }
      },
      "source": [
        "# Training the Algorithm\n",
        "# ---\n",
        "# \n",
        "\n",
        "# Firstly, importing our linear regression function\n",
        "# ---\n",
        "#\n",
        "from sklearn.linear_model import LinearRegression\n",
        "\n",
        "# Training the algorithm\n",
        "# ---\n",
        "# \n",
        "regressor = LinearRegression()\n",
        "regressor.fit(X_train, y_train)"
      ],
      "execution_count": 17,
      "outputs": [
        {
          "output_type": "execute_result",
          "data": {
            "text/plain": [
              "LinearRegression(copy_X=True, fit_intercept=True, n_jobs=None, normalize=False)"
            ]
          },
          "metadata": {
            "tags": []
          },
          "execution_count": 17
        }
      ]
    },
    {
      "cell_type": "code",
      "metadata": {
        "id": "UQigM6NOinhN",
        "colab_type": "code",
        "colab": {
          "base_uri": "https://localhost:8080/",
          "height": 153
        },
        "outputId": "57dcca60-1497-4248-8f8a-f1d26081e535"
      },
      "source": [
        "# Making Predictions\n",
        "# ---\n",
        "# After training our algorithm, we can now make some preditions\n",
        "# ---\n",
        "# We create the y_pred variable, which will contain \n",
        "# all the predicted values for the input values in the X_test series\n",
        "# ---\n",
        "#\n",
        "y_pred = regressor.predict(X_test)\n",
        "y_pred"
      ],
      "execution_count": 19,
      "outputs": [
        {
          "output_type": "execute_result",
          "data": {
            "text/plain": [
              "array([ 472.38317189,  161.20821592,  223.58860394,  184.37961353,\n",
              "        634.2210248 ,  783.03240113,  680.63881667,  503.57500422,\n",
              "        895.0222029 ,  139.68644481,  356.25875688,  656.72012191,\n",
              "        778.89520907,  896.40229382,   51.58150919,   92.00766574,\n",
              "        208.44717103, 1059.59461179,  167.63848938,  682.50393368,\n",
              "         43.78341609,  497.84924105,  173.23150825, 1164.47228424,\n",
              "        119.36346106,  515.92438501,  661.67078627,  298.10059021,\n",
              "        784.8464419 , -147.62147464,  628.37160911,  168.42731311])"
            ]
          },
          "metadata": {
            "tags": []
          },
          "execution_count": 19
        }
      ]
    },
    {
      "cell_type": "code",
      "metadata": {
        "id": "o6V1mjgpsNhL",
        "colab_type": "code",
        "outputId": "10506972-c898-4da7-e3ce-873573d92a60",
        "colab": {
          "base_uri": "https://localhost:8080/",
          "height": 359
        }
      },
      "source": [
        "# Next, we compare actual output values for X_test with the predicted values\n",
        "# This should also give us a sense of how our model performed during prediction\n",
        "# ---\n",
        "#\n",
        "df = pd.DataFrame({'Actual': y_test, 'Predicted': y_pred})\n",
        "df.sample(10)"
      ],
      "execution_count": 20,
      "outputs": [
        {
          "output_type": "execute_result",
          "data": {
            "text/html": [
              "<div>\n",
              "<style scoped>\n",
              "    .dataframe tbody tr th:only-of-type {\n",
              "        vertical-align: middle;\n",
              "    }\n",
              "\n",
              "    .dataframe tbody tr th {\n",
              "        vertical-align: top;\n",
              "    }\n",
              "\n",
              "    .dataframe thead th {\n",
              "        text-align: right;\n",
              "    }\n",
              "</style>\n",
              "<table border=\"1\" class=\"dataframe\">\n",
              "  <thead>\n",
              "    <tr style=\"text-align: right;\">\n",
              "      <th></th>\n",
              "      <th>Actual</th>\n",
              "      <th>Predicted</th>\n",
              "    </tr>\n",
              "  </thead>\n",
              "  <tbody>\n",
              "    <tr>\n",
              "      <th>131</th>\n",
              "      <td>300.0</td>\n",
              "      <td>503.575004</td>\n",
              "    </tr>\n",
              "    <tr>\n",
              "      <th>95</th>\n",
              "      <td>170.0</td>\n",
              "      <td>223.588604</td>\n",
              "    </tr>\n",
              "    <tr>\n",
              "      <th>19</th>\n",
              "      <td>650.0</td>\n",
              "      <td>628.371609</td>\n",
              "    </tr>\n",
              "    <tr>\n",
              "      <th>134</th>\n",
              "      <td>456.0</td>\n",
              "      <td>656.720122</td>\n",
              "    </tr>\n",
              "    <tr>\n",
              "      <th>8</th>\n",
              "      <td>450.0</td>\n",
              "      <td>515.924385</td>\n",
              "    </tr>\n",
              "    <tr>\n",
              "      <th>44</th>\n",
              "      <td>145.0</td>\n",
              "      <td>208.447171</td>\n",
              "    </tr>\n",
              "    <tr>\n",
              "      <th>144</th>\n",
              "      <td>1650.0</td>\n",
              "      <td>1164.472284</td>\n",
              "    </tr>\n",
              "    <tr>\n",
              "      <th>86</th>\n",
              "      <td>120.0</td>\n",
              "      <td>173.231508</td>\n",
              "    </tr>\n",
              "    <tr>\n",
              "      <th>120</th>\n",
              "      <td>900.0</td>\n",
              "      <td>783.032401</td>\n",
              "    </tr>\n",
              "    <tr>\n",
              "      <th>90</th>\n",
              "      <td>110.0</td>\n",
              "      <td>168.427313</td>\n",
              "    </tr>\n",
              "  </tbody>\n",
              "</table>\n",
              "</div>"
            ],
            "text/plain": [
              "     Actual    Predicted\n",
              "131   300.0   503.575004\n",
              "95    170.0   223.588604\n",
              "19    650.0   628.371609\n",
              "134   456.0   656.720122\n",
              "8     450.0   515.924385\n",
              "44    145.0   208.447171\n",
              "144  1650.0  1164.472284\n",
              "86    120.0   173.231508\n",
              "120   900.0   783.032401\n",
              "90    110.0   168.427313"
            ]
          },
          "metadata": {
            "tags": []
          },
          "execution_count": 20
        }
      ]
    },
    {
      "cell_type": "code",
      "metadata": {
        "id": "m0HIZfRoiylf",
        "colab_type": "code",
        "outputId": "2bb6fc52-98b5-460a-df28-80ad6d26f275",
        "colab": {
          "base_uri": "https://localhost:8080/",
          "height": 34
        }
      },
      "source": [
        "# Finally, we evaluate our model performance\n",
        "# --- \n",
        "# The final step is to evaluate the performance of algorithm  \n",
        "# Root Mean Squared Error (RMSE). This is the square root of the mean of the squared errors.\n",
        "# ---  \n",
        "#\n",
        "from sklearn import metrics \n",
        "print('Root Mean Squared Error:', np.sqrt(metrics.mean_squared_error(y_test, y_pred)))\n",
        "\n",
        "# Observation\n",
        "# ---\n",
        "# We can see that the value of root mean squared error is 161.33, \n",
        "# which is greater than 10% of the mean value of the weight of 398. \n",
        "# This means that our algorithm fairly accurate and can make reasonably good predictions.\n",
        "# There are many factors that may have contributed to this inaccuracy, a few of which are :\n",
        "# 1. Need more data: Only one year worth of data isn't that much, \n",
        "#    whereas having multiple years worth could have helped us improve the accuracy quite a bit.\n",
        "# 2. Bad assumptions: We made the assumption that this data has a linear relationship, \n",
        "#    but that might not be the case. Visualizing the data may help you determine that. \n",
        "# 3. Poor features: The features we used may not have had a high enough correlation \n",
        "#    to the values we were trying to predict."
      ],
      "execution_count": 0,
      "outputs": [
        {
          "output_type": "stream",
          "text": [
            "Root Mean Squared Error: 161.33107273485066\n"
          ],
          "name": "stdout"
        }
      ]
    },
    {
      "cell_type": "markdown",
      "metadata": {
        "colab_type": "text",
        "id": "vBBOl6dW1M_E"
      },
      "source": [
        "#### <font color=\"green\">Challenge 2</font>"
      ]
    },
    {
      "cell_type": "markdown",
      "metadata": {
        "id": "hh_dIYin-0S0",
        "colab_type": "text"
      },
      "source": [
        "**Problem Statement**\n",
        "\n",
        "A Chinese automobile company Geely Auto aspires to enter the US market by setting up their manufacturing unit there and producing cars locally to give competition to their US and European counterparts.\n",
        "\n",
        "They have contracted an automobile consulting company to understand the factors on which the pricing of cars depends. Specifically, they want to understand the factors affecting the pricing of cars in the American market, since those may be very different from the Chinese market.\n",
        "\n",
        "**Business Goal**\n",
        "\n",
        "We are required to model the price of cars with the available independent variables. It will be used by the management to understand how exactly the prices vary with the independent variables. They can accordingly manipulate the design of the cars, the business strategy etc. to meet certain price levels. Further, the model will be a good way for management to understand the pricing dynamics of a new market.\n",
        "\n",
        "Problem Source [Kaggle](https://www.kaggle.com/hellbuoy/car-price-prediction)"
      ]
    },
    {
      "cell_type": "code",
      "metadata": {
        "colab_type": "code",
        "id": "XyO8bGSo1M_F",
        "colab": {}
      },
      "source": [
        "# Challenge \n",
        "# ---\n",
        "# Create a model to predict the price of cars given the following dataset.\n",
        "# ---\n",
        "# Dataset url = http://bit.ly/CarPriceDataset\n",
        "# ---\n",
        "# OUR CODE GOES BELOW\n",
        "import numpy as np\n",
        "import pandas as pd\n",
        "import matplotlib.pyplot as plt\n",
        "import seaborn as sns"
      ],
      "execution_count": 0,
      "outputs": []
    },
    {
      "cell_type": "code",
      "metadata": {
        "id": "8B_j2K3kaMWC",
        "colab_type": "code",
        "colab": {}
      },
      "source": [
        "cars=pd.read_csv('https://bit.ly/CarPriceDataset')\n",
        "cars.head\n"
      ],
      "execution_count": 0,
      "outputs": []
    },
    {
      "cell_type": "code",
      "metadata": {
        "id": "ySj2Y0AHVwQv",
        "colab_type": "code",
        "colab": {
          "base_uri": "https://localhost:8080/",
          "height": 297
        },
        "outputId": "d6521c45-7a14-4722-933b-413e394c3be5"
      },
      "source": [
        "cars.describe()"
      ],
      "execution_count": 64,
      "outputs": [
        {
          "output_type": "execute_result",
          "data": {
            "text/html": [
              "<div>\n",
              "<style scoped>\n",
              "    .dataframe tbody tr th:only-of-type {\n",
              "        vertical-align: middle;\n",
              "    }\n",
              "\n",
              "    .dataframe tbody tr th {\n",
              "        vertical-align: top;\n",
              "    }\n",
              "\n",
              "    .dataframe thead th {\n",
              "        text-align: right;\n",
              "    }\n",
              "</style>\n",
              "<table border=\"1\" class=\"dataframe\">\n",
              "  <thead>\n",
              "    <tr style=\"text-align: right;\">\n",
              "      <th></th>\n",
              "      <th>Actual</th>\n",
              "      <th>Predicted</th>\n",
              "    </tr>\n",
              "  </thead>\n",
              "  <tbody>\n",
              "    <tr>\n",
              "      <th>count</th>\n",
              "      <td>52.000000</td>\n",
              "      <td>52.000000</td>\n",
              "    </tr>\n",
              "    <tr>\n",
              "      <th>mean</th>\n",
              "      <td>13440.836538</td>\n",
              "      <td>12976.487260</td>\n",
              "    </tr>\n",
              "    <tr>\n",
              "      <th>std</th>\n",
              "      <td>8719.526625</td>\n",
              "      <td>7834.246161</td>\n",
              "    </tr>\n",
              "    <tr>\n",
              "      <th>min</th>\n",
              "      <td>5118.000000</td>\n",
              "      <td>333.526440</td>\n",
              "    </tr>\n",
              "    <tr>\n",
              "      <th>25%</th>\n",
              "      <td>7823.500000</td>\n",
              "      <td>7410.269923</td>\n",
              "    </tr>\n",
              "    <tr>\n",
              "      <th>50%</th>\n",
              "      <td>10470.000000</td>\n",
              "      <td>10406.259029</td>\n",
              "    </tr>\n",
              "    <tr>\n",
              "      <th>75%</th>\n",
              "      <td>16172.250000</td>\n",
              "      <td>17289.423767</td>\n",
              "    </tr>\n",
              "    <tr>\n",
              "      <th>max</th>\n",
              "      <td>45400.000000</td>\n",
              "      <td>37515.715029</td>\n",
              "    </tr>\n",
              "  </tbody>\n",
              "</table>\n",
              "</div>"
            ],
            "text/plain": [
              "             Actual     Predicted\n",
              "count     52.000000     52.000000\n",
              "mean   13440.836538  12976.487260\n",
              "std     8719.526625   7834.246161\n",
              "min     5118.000000    333.526440\n",
              "25%     7823.500000   7410.269923\n",
              "50%    10470.000000  10406.259029\n",
              "75%    16172.250000  17289.423767\n",
              "max    45400.000000  37515.715029"
            ]
          },
          "metadata": {
            "tags": []
          },
          "execution_count": 64
        }
      ]
    },
    {
      "cell_type": "code",
      "metadata": {
        "id": "n8NFmmlVWT66",
        "colab_type": "code",
        "colab": {}
      },
      "source": [
        "cars.isnull().sum"
      ],
      "execution_count": 0,
      "outputs": []
    },
    {
      "cell_type": "code",
      "metadata": {
        "id": "dvgqKQs9Wy15",
        "colab_type": "code",
        "colab": {}
      },
      "source": [
        "carsCorr=cars.corr()\n",
        "carsCorr"
      ],
      "execution_count": 0,
      "outputs": []
    },
    {
      "cell_type": "code",
      "metadata": {
        "id": "URECU8nyXYlA",
        "colab_type": "code",
        "colab": {}
      },
      "source": [
        "plt.figure(figsize=(20,20))\n",
        "sns.heatmap(carsCorr,annot=True)"
      ],
      "execution_count": 0,
      "outputs": []
    },
    {
      "cell_type": "markdown",
      "metadata": {
        "id": "JGeyt2JBahcV",
        "colab_type": "text"
      },
      "source": [
        "perfoming exploratory analysis"
      ]
    },
    {
      "cell_type": "code",
      "metadata": {
        "id": "2YvAlskganU6",
        "colab_type": "code",
        "colab": {}
      },
      "source": [
        "y=cars['price']\n",
        "X=cars[['car_ID' ,  'wheelbase'  , 'carlength','carwidth','carheight','curbweight','enginesize','boreratio','stroke','compressionratio','horsepower','peakrpm', 'citympg','highwaympg' ]]\n",
        "X\n"
      ],
      "execution_count": 0,
      "outputs": []
    },
    {
      "cell_type": "code",
      "metadata": {
        "id": "X37uR2Dld3FK",
        "colab_type": "code",
        "colab": {}
      },
      "source": [
        ""
      ],
      "execution_count": 0,
      "outputs": []
    },
    {
      "cell_type": "code",
      "metadata": {
        "colab_type": "code",
        "id": "tCpXXfraeVG-",
        "colab": {}
      },
      "source": [
        "\n",
        "from sklearn.model_selection import train_test_split\n",
        "\n",
        "\n",
        "X_train, X_test, y_train, y_test = train_test_split(X, y, test_size=0.25, random_state=0)\n",
        "y_test.shape"
      ],
      "execution_count": 0,
      "outputs": []
    },
    {
      "cell_type": "code",
      "metadata": {
        "colab_type": "code",
        "id": "GJcwSIzQfClO",
        "colab": {}
      },
      "source": [
        "# Training the Algorithm, importing our linear regression function\n",
        "\n",
        "from sklearn.linear_model import LinearRegression\n",
        "\n",
        "# Training the algorithm\n",
        "\n",
        "regressor = LinearRegression()\n",
        "regressor.fit(X_train, y_train)\n"
      ],
      "execution_count": 0,
      "outputs": []
    },
    {
      "cell_type": "code",
      "metadata": {
        "colab_type": "code",
        "id": "qbMoYjLEf4Ia",
        "colab": {}
      },
      "source": [
        "# Making Predictions\n",
        "\n",
        "y_pred = regressor.predict(X_test)\n",
        "y_pred"
      ],
      "execution_count": 0,
      "outputs": []
    },
    {
      "cell_type": "code",
      "metadata": {
        "colab_type": "code",
        "outputId": "4687c33d-14a5-411a-c9e4-210701a9fbfc",
        "id": "GEm5Hsk_gXkW",
        "colab": {
          "base_uri": "https://localhost:8080/",
          "height": 669
        }
      },
      "source": [
        "# Next, we compare actual output values for X_test with the predicted values\n",
        "# This should also give us a sense of how our model performed during prediction\n",
        "# ---\n",
        "#\n",
        "cars = pd.DataFrame({'Actual': y_test, 'Predicted': y_pred})\n",
        "cars.sample(20)"
      ],
      "execution_count": 62,
      "outputs": [
        {
          "output_type": "execute_result",
          "data": {
            "text/html": [
              "<div>\n",
              "<style scoped>\n",
              "    .dataframe tbody tr th:only-of-type {\n",
              "        vertical-align: middle;\n",
              "    }\n",
              "\n",
              "    .dataframe tbody tr th {\n",
              "        vertical-align: top;\n",
              "    }\n",
              "\n",
              "    .dataframe thead th {\n",
              "        text-align: right;\n",
              "    }\n",
              "</style>\n",
              "<table border=\"1\" class=\"dataframe\">\n",
              "  <thead>\n",
              "    <tr style=\"text-align: right;\">\n",
              "      <th></th>\n",
              "      <th>Actual</th>\n",
              "      <th>Predicted</th>\n",
              "    </tr>\n",
              "  </thead>\n",
              "  <tbody>\n",
              "    <tr>\n",
              "      <th>74</th>\n",
              "      <td>45400.0</td>\n",
              "      <td>36701.803991</td>\n",
              "    </tr>\n",
              "    <tr>\n",
              "      <th>122</th>\n",
              "      <td>7609.0</td>\n",
              "      <td>6658.993162</td>\n",
              "    </tr>\n",
              "    <tr>\n",
              "      <th>26</th>\n",
              "      <td>7609.0</td>\n",
              "      <td>7472.555968</td>\n",
              "    </tr>\n",
              "    <tr>\n",
              "      <th>161</th>\n",
              "      <td>8358.0</td>\n",
              "      <td>6061.050063</td>\n",
              "    </tr>\n",
              "    <tr>\n",
              "      <th>188</th>\n",
              "      <td>9995.0</td>\n",
              "      <td>9898.064360</td>\n",
              "    </tr>\n",
              "    <tr>\n",
              "      <th>154</th>\n",
              "      <td>7898.0</td>\n",
              "      <td>5646.643118</td>\n",
              "    </tr>\n",
              "    <tr>\n",
              "      <th>179</th>\n",
              "      <td>15998.0</td>\n",
              "      <td>20235.544740</td>\n",
              "    </tr>\n",
              "    <tr>\n",
              "      <th>80</th>\n",
              "      <td>9959.0</td>\n",
              "      <td>10667.367538</td>\n",
              "    </tr>\n",
              "    <tr>\n",
              "      <th>173</th>\n",
              "      <td>8948.0</td>\n",
              "      <td>7486.548431</td>\n",
              "    </tr>\n",
              "    <tr>\n",
              "      <th>16</th>\n",
              "      <td>41315.0</td>\n",
              "      <td>27714.327612</td>\n",
              "    </tr>\n",
              "    <tr>\n",
              "      <th>152</th>\n",
              "      <td>6488.0</td>\n",
              "      <td>5474.479993</td>\n",
              "    </tr>\n",
              "    <tr>\n",
              "      <th>156</th>\n",
              "      <td>6938.0</td>\n",
              "      <td>6192.710992</td>\n",
              "    </tr>\n",
              "    <tr>\n",
              "      <th>37</th>\n",
              "      <td>7895.0</td>\n",
              "      <td>10463.445971</td>\n",
              "    </tr>\n",
              "    <tr>\n",
              "      <th>4</th>\n",
              "      <td>17450.0</td>\n",
              "      <td>16336.998069</td>\n",
              "    </tr>\n",
              "    <tr>\n",
              "      <th>5</th>\n",
              "      <td>15250.0</td>\n",
              "      <td>15661.480741</td>\n",
              "    </tr>\n",
              "    <tr>\n",
              "      <th>89</th>\n",
              "      <td>5499.0</td>\n",
              "      <td>5894.245660</td>\n",
              "    </tr>\n",
              "    <tr>\n",
              "      <th>83</th>\n",
              "      <td>14869.0</td>\n",
              "      <td>15332.066469</td>\n",
              "    </tr>\n",
              "    <tr>\n",
              "      <th>104</th>\n",
              "      <td>17199.0</td>\n",
              "      <td>22514.096433</td>\n",
              "    </tr>\n",
              "    <tr>\n",
              "      <th>71</th>\n",
              "      <td>34184.0</td>\n",
              "      <td>30514.876464</td>\n",
              "    </tr>\n",
              "    <tr>\n",
              "      <th>171</th>\n",
              "      <td>11549.0</td>\n",
              "      <td>12752.471809</td>\n",
              "    </tr>\n",
              "  </tbody>\n",
              "</table>\n",
              "</div>"
            ],
            "text/plain": [
              "      Actual     Predicted\n",
              "74   45400.0  36701.803991\n",
              "122   7609.0   6658.993162\n",
              "26    7609.0   7472.555968\n",
              "161   8358.0   6061.050063\n",
              "188   9995.0   9898.064360\n",
              "154   7898.0   5646.643118\n",
              "179  15998.0  20235.544740\n",
              "80    9959.0  10667.367538\n",
              "173   8948.0   7486.548431\n",
              "16   41315.0  27714.327612\n",
              "152   6488.0   5474.479993\n",
              "156   6938.0   6192.710992\n",
              "37    7895.0  10463.445971\n",
              "4    17450.0  16336.998069\n",
              "5    15250.0  15661.480741\n",
              "89    5499.0   5894.245660\n",
              "83   14869.0  15332.066469\n",
              "104  17199.0  22514.096433\n",
              "71   34184.0  30514.876464\n",
              "171  11549.0  12752.471809"
            ]
          },
          "metadata": {
            "tags": []
          },
          "execution_count": 62
        }
      ]
    },
    {
      "cell_type": "code",
      "metadata": {
        "colab_type": "code",
        "outputId": "4067ab65-fe37-431e-a268-61afa7c544e8",
        "id": "9pAGLC2fiCgx",
        "colab": {
          "base_uri": "https://localhost:8080/",
          "height": 34
        }
      },
      "source": [
        "# Finally, we evaluate our model performance\n",
        "# --- \n",
        "# The final step is to evaluate the performance of algorithm  \n",
        "# Root Mean Squared Error (RMSE). This is the square root of the mean of the squared errors.\n",
        "\n",
        "from sklearn import metrics \n",
        "print('Root Mean Squared Error:', np.sqrt(metrics.mean_squared_error(y_test, y_pred)))\n",
        "\n"
      ],
      "execution_count": 63,
      "outputs": [
        {
          "output_type": "stream",
          "text": [
            "Root Mean Squared Error: 3195.896907936713\n"
          ],
          "name": "stdout"
        }
      ]
    },
    {
      "cell_type": "markdown",
      "metadata": {
        "colab_type": "text",
        "id": "dZnt55W161xq"
      },
      "source": [
        "## 3. K-Nearest Neighbor (KNN) Regression"
      ]
    },
    {
      "cell_type": "markdown",
      "metadata": {
        "colab_type": "text",
        "id": "Ra8eyciQ61xt"
      },
      "source": [
        "#### <font color=\"blue\">Example 3</font>"
      ]
    },
    {
      "cell_type": "markdown",
      "metadata": {
        "colab_type": "text",
        "id": "jSZ7_VHT61xu"
      },
      "source": [
        "##### <font color=\"blue\">Example</font>"
      ]
    },
    {
      "cell_type": "code",
      "metadata": {
        "colab_type": "code",
        "id": "OQfSF0ed61xv",
        "colab": {}
      },
      "source": [
        "# Example\n",
        "# ---\n",
        "# Question: Using the KNN Algorithm, create a regression model to \n",
        "# predict the weight of fish given the following dataset.\n",
        "# ---\n",
        "# Dataset url = http://bit.ly/FishDatasetClean\n",
        "# NB: This dataset is clean version of the one \n",
        "# we used in the multiple regression example above.\n",
        "# ---\n",
        "# OUR CODE GOES BELOW\n",
        "# "
      ],
      "execution_count": 0,
      "outputs": []
    },
    {
      "cell_type": "markdown",
      "metadata": {
        "id": "H2R0vl7qcj-9",
        "colab_type": "text"
      },
      "source": [
        "##### Step 1. Loading our Data "
      ]
    },
    {
      "cell_type": "code",
      "metadata": {
        "id": "u1-FmyIGDusq",
        "colab_type": "code",
        "outputId": "a5f778b7-2530-49ee-ffc4-5c2cc044bb81",
        "colab": {
          "base_uri": "https://localhost:8080/",
          "height": 204
        }
      },
      "source": [
        "# Reading our Dataset\n",
        "# ---\n",
        "# \n",
        "df = pd.read_csv('http://bit.ly/FishDatasetClean')\n",
        "df.head()"
      ],
      "execution_count": 0,
      "outputs": [
        {
          "output_type": "execute_result",
          "data": {
            "text/html": [
              "<div>\n",
              "<style scoped>\n",
              "    .dataframe tbody tr th:only-of-type {\n",
              "        vertical-align: middle;\n",
              "    }\n",
              "\n",
              "    .dataframe tbody tr th {\n",
              "        vertical-align: top;\n",
              "    }\n",
              "\n",
              "    .dataframe thead th {\n",
              "        text-align: right;\n",
              "    }\n",
              "</style>\n",
              "<table border=\"1\" class=\"dataframe\">\n",
              "  <thead>\n",
              "    <tr style=\"text-align: right;\">\n",
              "      <th></th>\n",
              "      <th>Weight</th>\n",
              "      <th>Length1</th>\n",
              "      <th>Length2</th>\n",
              "      <th>Length3</th>\n",
              "      <th>Height</th>\n",
              "      <th>Width</th>\n",
              "    </tr>\n",
              "  </thead>\n",
              "  <tbody>\n",
              "    <tr>\n",
              "      <th>0</th>\n",
              "      <td>242.0</td>\n",
              "      <td>23.2</td>\n",
              "      <td>25.4</td>\n",
              "      <td>30.0</td>\n",
              "      <td>11.5200</td>\n",
              "      <td>4.0200</td>\n",
              "    </tr>\n",
              "    <tr>\n",
              "      <th>1</th>\n",
              "      <td>290.0</td>\n",
              "      <td>24.0</td>\n",
              "      <td>26.3</td>\n",
              "      <td>31.2</td>\n",
              "      <td>12.4800</td>\n",
              "      <td>4.3056</td>\n",
              "    </tr>\n",
              "    <tr>\n",
              "      <th>2</th>\n",
              "      <td>340.0</td>\n",
              "      <td>23.9</td>\n",
              "      <td>26.5</td>\n",
              "      <td>31.1</td>\n",
              "      <td>12.3778</td>\n",
              "      <td>4.6961</td>\n",
              "    </tr>\n",
              "    <tr>\n",
              "      <th>3</th>\n",
              "      <td>363.0</td>\n",
              "      <td>26.3</td>\n",
              "      <td>29.0</td>\n",
              "      <td>33.5</td>\n",
              "      <td>12.7300</td>\n",
              "      <td>4.4555</td>\n",
              "    </tr>\n",
              "    <tr>\n",
              "      <th>4</th>\n",
              "      <td>430.0</td>\n",
              "      <td>26.5</td>\n",
              "      <td>29.0</td>\n",
              "      <td>34.0</td>\n",
              "      <td>12.4440</td>\n",
              "      <td>5.1340</td>\n",
              "    </tr>\n",
              "  </tbody>\n",
              "</table>\n",
              "</div>"
            ],
            "text/plain": [
              "   Weight  Length1  Length2  Length3   Height   Width\n",
              "0   242.0     23.2     25.4     30.0  11.5200  4.0200\n",
              "1   290.0     24.0     26.3     31.2  12.4800  4.3056\n",
              "2   340.0     23.9     26.5     31.1  12.3778  4.6961\n",
              "3   363.0     26.3     29.0     33.5  12.7300  4.4555\n",
              "4   430.0     26.5     29.0     34.0  12.4440  5.1340"
            ]
          },
          "metadata": {
            "tags": []
          },
          "execution_count": 132
        }
      ]
    },
    {
      "cell_type": "code",
      "metadata": {
        "id": "PtFQ3r8m4rj0",
        "colab_type": "code",
        "outputId": "6dc2319e-d343-4a89-f473-c14dc6eaf293",
        "colab": {
          "base_uri": "https://localhost:8080/",
          "height": 297
        }
      },
      "source": [
        "# Previwing our dataset\n",
        "# \n",
        "df.describe()"
      ],
      "execution_count": 0,
      "outputs": [
        {
          "output_type": "execute_result",
          "data": {
            "text/html": [
              "<div>\n",
              "<style scoped>\n",
              "    .dataframe tbody tr th:only-of-type {\n",
              "        vertical-align: middle;\n",
              "    }\n",
              "\n",
              "    .dataframe tbody tr th {\n",
              "        vertical-align: top;\n",
              "    }\n",
              "\n",
              "    .dataframe thead th {\n",
              "        text-align: right;\n",
              "    }\n",
              "</style>\n",
              "<table border=\"1\" class=\"dataframe\">\n",
              "  <thead>\n",
              "    <tr style=\"text-align: right;\">\n",
              "      <th></th>\n",
              "      <th>Weight</th>\n",
              "      <th>Length1</th>\n",
              "      <th>Length2</th>\n",
              "      <th>Length3</th>\n",
              "      <th>Height</th>\n",
              "      <th>Width</th>\n",
              "    </tr>\n",
              "  </thead>\n",
              "  <tbody>\n",
              "    <tr>\n",
              "      <th>count</th>\n",
              "      <td>159.000000</td>\n",
              "      <td>159.000000</td>\n",
              "      <td>159.000000</td>\n",
              "      <td>159.000000</td>\n",
              "      <td>159.000000</td>\n",
              "      <td>159.000000</td>\n",
              "    </tr>\n",
              "    <tr>\n",
              "      <th>mean</th>\n",
              "      <td>398.326415</td>\n",
              "      <td>26.247170</td>\n",
              "      <td>28.415723</td>\n",
              "      <td>31.227044</td>\n",
              "      <td>8.970994</td>\n",
              "      <td>4.417486</td>\n",
              "    </tr>\n",
              "    <tr>\n",
              "      <th>std</th>\n",
              "      <td>357.978317</td>\n",
              "      <td>9.996441</td>\n",
              "      <td>10.716328</td>\n",
              "      <td>11.610246</td>\n",
              "      <td>4.286208</td>\n",
              "      <td>1.685804</td>\n",
              "    </tr>\n",
              "    <tr>\n",
              "      <th>min</th>\n",
              "      <td>0.000000</td>\n",
              "      <td>7.500000</td>\n",
              "      <td>8.400000</td>\n",
              "      <td>8.800000</td>\n",
              "      <td>1.728400</td>\n",
              "      <td>1.047600</td>\n",
              "    </tr>\n",
              "    <tr>\n",
              "      <th>25%</th>\n",
              "      <td>120.000000</td>\n",
              "      <td>19.050000</td>\n",
              "      <td>21.000000</td>\n",
              "      <td>23.150000</td>\n",
              "      <td>5.944800</td>\n",
              "      <td>3.385650</td>\n",
              "    </tr>\n",
              "    <tr>\n",
              "      <th>50%</th>\n",
              "      <td>273.000000</td>\n",
              "      <td>25.200000</td>\n",
              "      <td>27.300000</td>\n",
              "      <td>29.400000</td>\n",
              "      <td>7.786000</td>\n",
              "      <td>4.248500</td>\n",
              "    </tr>\n",
              "    <tr>\n",
              "      <th>75%</th>\n",
              "      <td>650.000000</td>\n",
              "      <td>32.700000</td>\n",
              "      <td>35.500000</td>\n",
              "      <td>39.650000</td>\n",
              "      <td>12.365900</td>\n",
              "      <td>5.584500</td>\n",
              "    </tr>\n",
              "    <tr>\n",
              "      <th>max</th>\n",
              "      <td>1650.000000</td>\n",
              "      <td>59.000000</td>\n",
              "      <td>63.400000</td>\n",
              "      <td>68.000000</td>\n",
              "      <td>18.957000</td>\n",
              "      <td>8.142000</td>\n",
              "    </tr>\n",
              "  </tbody>\n",
              "</table>\n",
              "</div>"
            ],
            "text/plain": [
              "            Weight     Length1     Length2     Length3      Height       Width\n",
              "count   159.000000  159.000000  159.000000  159.000000  159.000000  159.000000\n",
              "mean    398.326415   26.247170   28.415723   31.227044    8.970994    4.417486\n",
              "std     357.978317    9.996441   10.716328   11.610246    4.286208    1.685804\n",
              "min       0.000000    7.500000    8.400000    8.800000    1.728400    1.047600\n",
              "25%     120.000000   19.050000   21.000000   23.150000    5.944800    3.385650\n",
              "50%     273.000000   25.200000   27.300000   29.400000    7.786000    4.248500\n",
              "75%     650.000000   32.700000   35.500000   39.650000   12.365900    5.584500\n",
              "max    1650.000000   59.000000   63.400000   68.000000   18.957000    8.142000"
            ]
          },
          "metadata": {
            "tags": []
          },
          "execution_count": 133
        }
      ]
    },
    {
      "cell_type": "markdown",
      "metadata": {
        "id": "Sq2I8vJdcosx",
        "colab_type": "text"
      },
      "source": [
        "##### Step 2, 3, 4: Checking, Cleaning, Exploratory Analysis and have already been performed on our dataset in example 2"
      ]
    },
    {
      "cell_type": "markdown",
      "metadata": {
        "id": "SEf8ok31dHcO",
        "colab_type": "text"
      },
      "source": [
        "##### Step 5. Implementation and Evaluation"
      ]
    },
    {
      "cell_type": "code",
      "metadata": {
        "id": "qwNWzSBjKZ0J",
        "colab_type": "code",
        "colab": {}
      },
      "source": [
        "# We will now quickly prepare our dataset so that we can fit our model\n",
        "# ---\n",
        "# We divide our data into attributes and labels. \n",
        "# This time, we use column names for creating an attribute set and label.\n",
        "# ---\n",
        "# \n",
        "X = df[['Length1', 'Length2', 'Length3',\n",
        "       'Height', 'Width']]\n",
        "y = df['Weight']"
      ],
      "execution_count": 0,
      "outputs": []
    },
    {
      "cell_type": "code",
      "metadata": {
        "id": "SMxxp6teKweY",
        "colab_type": "code",
        "colab": {}
      },
      "source": [
        "# We then Split our datset\n",
        "# ---\n",
        "# We split our dataset into training and test sets. 80% = training set, while 20% = test set\n",
        "# ---\n",
        "#\n",
        "\n",
        "# Firstly, importing our train_test_split function\n",
        "# ---\n",
        "#\n",
        "from sklearn.model_selection import train_test_split\n",
        "\n",
        "# Performing our split\n",
        "# ---\n",
        "# \n",
        "X_train, X_test, y_train, y_test = train_test_split(X, y, test_size=0.2, random_state=0)"
      ],
      "execution_count": 0,
      "outputs": []
    },
    {
      "cell_type": "code",
      "metadata": {
        "id": "3k2kUDIS3b7w",
        "colab_type": "code",
        "colab": {}
      },
      "source": [
        "# Performing feature scaling\n",
        "# ---\n",
        "#\n",
        "from sklearn.preprocessing import StandardScaler\n",
        "sc_X = StandardScaler()\n",
        "sc_y = StandardScaler()\n",
        "\n",
        "X_train = sc_X.fit_transform(X_train)\n",
        "X_test = sc_y.fit_transform(X_test)"
      ],
      "execution_count": 0,
      "outputs": []
    },
    {
      "cell_type": "code",
      "metadata": {
        "id": "RDGSjxV6T4Pi",
        "colab_type": "code",
        "outputId": "b0d47a99-d023-4889-a68e-9865b3e07671",
        "colab": {
          "base_uri": "https://localhost:8080/",
          "height": 68
        }
      },
      "source": [
        "# Applying our algorithm\n",
        "# ---\n",
        "# \n",
        "# Firstly, importing our KNN regression function\n",
        "# ---\n",
        "# \n",
        "from sklearn.neighbors import KNeighborsRegressor\n",
        "  \n",
        "# We initialize our algorithm with one parameter, i.e. n_neigbours. \n",
        "# This is basically the value for the K. \n",
        "# There is no ideal value for K and it is selected after testing and evaluation, \n",
        "# however to start out, we can use 5  as it is the most commonly used value for KNN algorithm.\n",
        "# ---\n",
        "#  \n",
        "regressor = KNeighborsRegressor(5)\n",
        "regressor.fit(X_train, y_train)"
      ],
      "execution_count": 0,
      "outputs": [
        {
          "output_type": "execute_result",
          "data": {
            "text/plain": [
              "KNeighborsRegressor(algorithm='auto', leaf_size=30, metric='minkowski',\n",
              "                    metric_params=None, n_jobs=None, n_neighbors=5, p=2,\n",
              "                    weights='uniform')"
            ]
          },
          "metadata": {
            "tags": []
          },
          "execution_count": 137
        }
      ]
    },
    {
      "cell_type": "code",
      "metadata": {
        "id": "v5vlOccZT8-R",
        "colab_type": "code",
        "colab": {}
      },
      "source": [
        "# Making predictions using our model\n",
        "# ---\n",
        "#  \n",
        "y_pred = regressor.predict(X_test)"
      ],
      "execution_count": 0,
      "outputs": []
    },
    {
      "cell_type": "code",
      "metadata": {
        "id": "MzieEvIOsmSU",
        "colab_type": "code",
        "outputId": "ad79d596-0fc1-4e53-bd5a-e24db3c58b53",
        "colab": {
          "base_uri": "https://localhost:8080/",
          "height": 359
        }
      },
      "source": [
        "# Next, we compare actual output values for X_test with the predicted values\n",
        "# ---\n",
        "#\n",
        "df = pd.DataFrame({'Actual': y_test, 'Predicted': y_pred})\n",
        "df.sample(10)"
      ],
      "execution_count": 0,
      "outputs": [
        {
          "output_type": "execute_result",
          "data": {
            "text/html": [
              "<div>\n",
              "<style scoped>\n",
              "    .dataframe tbody tr th:only-of-type {\n",
              "        vertical-align: middle;\n",
              "    }\n",
              "\n",
              "    .dataframe tbody tr th {\n",
              "        vertical-align: top;\n",
              "    }\n",
              "\n",
              "    .dataframe thead th {\n",
              "        text-align: right;\n",
              "    }\n",
              "</style>\n",
              "<table border=\"1\" class=\"dataframe\">\n",
              "  <thead>\n",
              "    <tr style=\"text-align: right;\">\n",
              "      <th></th>\n",
              "      <th>Actual</th>\n",
              "      <th>Predicted</th>\n",
              "    </tr>\n",
              "  </thead>\n",
              "  <tbody>\n",
              "    <tr>\n",
              "      <th>56</th>\n",
              "      <td>270.0</td>\n",
              "      <td>187.00</td>\n",
              "    </tr>\n",
              "    <tr>\n",
              "      <th>63</th>\n",
              "      <td>90.0</td>\n",
              "      <td>69.70</td>\n",
              "    </tr>\n",
              "    <tr>\n",
              "      <th>37</th>\n",
              "      <td>78.0</td>\n",
              "      <td>70.70</td>\n",
              "    </tr>\n",
              "    <tr>\n",
              "      <th>83</th>\n",
              "      <td>115.0</td>\n",
              "      <td>79.40</td>\n",
              "    </tr>\n",
              "    <tr>\n",
              "      <th>19</th>\n",
              "      <td>650.0</td>\n",
              "      <td>515.00</td>\n",
              "    </tr>\n",
              "    <tr>\n",
              "      <th>62</th>\n",
              "      <td>60.0</td>\n",
              "      <td>36.68</td>\n",
              "    </tr>\n",
              "    <tr>\n",
              "      <th>86</th>\n",
              "      <td>120.0</td>\n",
              "      <td>83.00</td>\n",
              "    </tr>\n",
              "    <tr>\n",
              "      <th>144</th>\n",
              "      <td>1650.0</td>\n",
              "      <td>1104.00</td>\n",
              "    </tr>\n",
              "    <tr>\n",
              "      <th>26</th>\n",
              "      <td>720.0</td>\n",
              "      <td>639.00</td>\n",
              "    </tr>\n",
              "    <tr>\n",
              "      <th>90</th>\n",
              "      <td>110.0</td>\n",
              "      <td>112.40</td>\n",
              "    </tr>\n",
              "  </tbody>\n",
              "</table>\n",
              "</div>"
            ],
            "text/plain": [
              "     Actual  Predicted\n",
              "56    270.0     187.00\n",
              "63     90.0      69.70\n",
              "37     78.0      70.70\n",
              "83    115.0      79.40\n",
              "19    650.0     515.00\n",
              "62     60.0      36.68\n",
              "86    120.0      83.00\n",
              "144  1650.0    1104.00\n",
              "26    720.0     639.00\n",
              "90    110.0     112.40"
            ]
          },
          "metadata": {
            "tags": []
          },
          "execution_count": 139
        }
      ]
    },
    {
      "cell_type": "code",
      "metadata": {
        "id": "KXVeZTcCGyBI",
        "colab_type": "code",
        "outputId": "b9801f0b-350f-4bc9-85d4-9f3addcce878",
        "colab": {
          "base_uri": "https://localhost:8080/",
          "height": 34
        }
      },
      "source": [
        "# Finally, we evaluate the algorithm\n",
        "# --- \n",
        "# The final step is to evaluate the performance of algorithm.\n",
        "# Root Mean Squared Error (RMSE) is the square root of the mean of the squared errors.\n",
        "# ---  \n",
        "#  \n",
        "print('Root Mean Squared Error:', np.sqrt(metrics.mean_squared_error(y_test, y_pred)))"
      ],
      "execution_count": 0,
      "outputs": [
        {
          "output_type": "stream",
          "text": [
            "Root Mean Squared Error: 171.02280820112853\n"
          ],
          "name": "stdout"
        }
      ]
    },
    {
      "cell_type": "markdown",
      "metadata": {
        "colab_type": "text",
        "id": "VBR8j6zJ61xz"
      },
      "source": [
        "#### <font color=\"green\">Challenge 3</font>"
      ]
    },
    {
      "cell_type": "markdown",
      "metadata": {
        "colab_type": "text",
        "id": "R2B3dOoj61x0"
      },
      "source": [
        "##### <font color=\"green\">Challenge</font>"
      ]
    },
    {
      "cell_type": "code",
      "metadata": {
        "colab_type": "code",
        "id": "Q4ura3JP61x1",
        "colab": {}
      },
      "source": [
        "# Challenge \n",
        "# ---\n",
        "# Create a regression model given the following dataset.\n",
        "# ---\n",
        "# Dataset url = http://bit.ly/RealEstateDataset2\n",
        "# Hint: For ease of use of this dataset, drop the No. and date columns\n",
        "# ---\n",
        "# OUR CODE GOES BELOW\n",
        "import pandas as pd\n",
        "import numpy as np\n"
      ],
      "execution_count": 0,
      "outputs": []
    },
    {
      "cell_type": "code",
      "metadata": {
        "id": "bAlWMRp-leVX",
        "colab_type": "code",
        "colab": {}
      },
      "source": [
        "df=pd.read_csv('http://bit.ly/RealEstateDataset2')\n",
        "df.head()"
      ],
      "execution_count": 0,
      "outputs": []
    },
    {
      "cell_type": "code",
      "metadata": {
        "id": "jkmWHBkXmN3m",
        "colab_type": "code",
        "colab": {}
      },
      "source": [
        "df.shape"
      ],
      "execution_count": 0,
      "outputs": []
    },
    {
      "cell_type": "code",
      "metadata": {
        "id": "9p41jGD-mUId",
        "colab_type": "code",
        "colab": {
          "base_uri": "https://localhost:8080/",
          "height": 331
        },
        "outputId": "dfce9bf0-9327-4406-865d-79c1a5646445"
      },
      "source": [
        "df.describe()"
      ],
      "execution_count": 92,
      "outputs": [
        {
          "output_type": "execute_result",
          "data": {
            "text/html": [
              "<div>\n",
              "<style scoped>\n",
              "    .dataframe tbody tr th:only-of-type {\n",
              "        vertical-align: middle;\n",
              "    }\n",
              "\n",
              "    .dataframe tbody tr th {\n",
              "        vertical-align: top;\n",
              "    }\n",
              "\n",
              "    .dataframe thead th {\n",
              "        text-align: right;\n",
              "    }\n",
              "</style>\n",
              "<table border=\"1\" class=\"dataframe\">\n",
              "  <thead>\n",
              "    <tr style=\"text-align: right;\">\n",
              "      <th></th>\n",
              "      <th>No</th>\n",
              "      <th>X1 transaction date</th>\n",
              "      <th>X2 house age</th>\n",
              "      <th>X3 distance to the nearest MRT station</th>\n",
              "      <th>X4 number of convenience stores</th>\n",
              "      <th>X5 latitude</th>\n",
              "      <th>X6 longitude</th>\n",
              "      <th>Y house price of unit area</th>\n",
              "    </tr>\n",
              "  </thead>\n",
              "  <tbody>\n",
              "    <tr>\n",
              "      <th>count</th>\n",
              "      <td>414.000000</td>\n",
              "      <td>414.000000</td>\n",
              "      <td>414.000000</td>\n",
              "      <td>414.000000</td>\n",
              "      <td>414.000000</td>\n",
              "      <td>414.000000</td>\n",
              "      <td>414.000000</td>\n",
              "      <td>414.000000</td>\n",
              "    </tr>\n",
              "    <tr>\n",
              "      <th>mean</th>\n",
              "      <td>207.500000</td>\n",
              "      <td>2013.148971</td>\n",
              "      <td>17.712560</td>\n",
              "      <td>1083.885689</td>\n",
              "      <td>4.094203</td>\n",
              "      <td>24.969030</td>\n",
              "      <td>121.533361</td>\n",
              "      <td>37.980193</td>\n",
              "    </tr>\n",
              "    <tr>\n",
              "      <th>std</th>\n",
              "      <td>119.655756</td>\n",
              "      <td>0.281967</td>\n",
              "      <td>11.392485</td>\n",
              "      <td>1262.109595</td>\n",
              "      <td>2.945562</td>\n",
              "      <td>0.012410</td>\n",
              "      <td>0.015347</td>\n",
              "      <td>13.606488</td>\n",
              "    </tr>\n",
              "    <tr>\n",
              "      <th>min</th>\n",
              "      <td>1.000000</td>\n",
              "      <td>2012.667000</td>\n",
              "      <td>0.000000</td>\n",
              "      <td>23.382840</td>\n",
              "      <td>0.000000</td>\n",
              "      <td>24.932070</td>\n",
              "      <td>121.473530</td>\n",
              "      <td>7.600000</td>\n",
              "    </tr>\n",
              "    <tr>\n",
              "      <th>25%</th>\n",
              "      <td>104.250000</td>\n",
              "      <td>2012.917000</td>\n",
              "      <td>9.025000</td>\n",
              "      <td>289.324800</td>\n",
              "      <td>1.000000</td>\n",
              "      <td>24.963000</td>\n",
              "      <td>121.528085</td>\n",
              "      <td>27.700000</td>\n",
              "    </tr>\n",
              "    <tr>\n",
              "      <th>50%</th>\n",
              "      <td>207.500000</td>\n",
              "      <td>2013.167000</td>\n",
              "      <td>16.100000</td>\n",
              "      <td>492.231300</td>\n",
              "      <td>4.000000</td>\n",
              "      <td>24.971100</td>\n",
              "      <td>121.538630</td>\n",
              "      <td>38.450000</td>\n",
              "    </tr>\n",
              "    <tr>\n",
              "      <th>75%</th>\n",
              "      <td>310.750000</td>\n",
              "      <td>2013.417000</td>\n",
              "      <td>28.150000</td>\n",
              "      <td>1454.279000</td>\n",
              "      <td>6.000000</td>\n",
              "      <td>24.977455</td>\n",
              "      <td>121.543305</td>\n",
              "      <td>46.600000</td>\n",
              "    </tr>\n",
              "    <tr>\n",
              "      <th>max</th>\n",
              "      <td>414.000000</td>\n",
              "      <td>2013.583000</td>\n",
              "      <td>43.800000</td>\n",
              "      <td>6488.021000</td>\n",
              "      <td>10.000000</td>\n",
              "      <td>25.014590</td>\n",
              "      <td>121.566270</td>\n",
              "      <td>117.500000</td>\n",
              "    </tr>\n",
              "  </tbody>\n",
              "</table>\n",
              "</div>"
            ],
            "text/plain": [
              "               No  ...  Y house price of unit area\n",
              "count  414.000000  ...                  414.000000\n",
              "mean   207.500000  ...                   37.980193\n",
              "std    119.655756  ...                   13.606488\n",
              "min      1.000000  ...                    7.600000\n",
              "25%    104.250000  ...                   27.700000\n",
              "50%    207.500000  ...                   38.450000\n",
              "75%    310.750000  ...                   46.600000\n",
              "max    414.000000  ...                  117.500000\n",
              "\n",
              "[8 rows x 8 columns]"
            ]
          },
          "metadata": {
            "tags": []
          },
          "execution_count": 92
        }
      ]
    },
    {
      "cell_type": "code",
      "metadata": {
        "id": "WXJbD8rwsa96",
        "colab_type": "code",
        "colab": {}
      },
      "source": [
        "df.drop(['No'], axis = 1, inplace = True)"
      ],
      "execution_count": 0,
      "outputs": []
    },
    {
      "cell_type": "code",
      "metadata": {
        "id": "G62ShG4rs0Qg",
        "colab_type": "code",
        "colab": {
          "base_uri": "https://localhost:8080/",
          "height": 85
        },
        "outputId": "fcc08990-e78f-44ff-9a18-a6f5c4176362"
      },
      "source": [
        "df.columns"
      ],
      "execution_count": 100,
      "outputs": [
        {
          "output_type": "execute_result",
          "data": {
            "text/plain": [
              "Index(['X2 house age', 'X3 distance to the nearest MRT station',\n",
              "       'X4 number of convenience stores', 'X5 latitude', 'X6 longitude',\n",
              "       'Y house price of unit area'],\n",
              "      dtype='object')"
            ]
          },
          "metadata": {
            "tags": []
          },
          "execution_count": 100
        }
      ]
    },
    {
      "cell_type": "code",
      "metadata": {
        "colab_type": "code",
        "id": "U2fpamRts1Cl",
        "colab": {}
      },
      "source": [
        "df.drop(['X1 transaction date'], axis = 1, inplace = True)"
      ],
      "execution_count": 0,
      "outputs": []
    },
    {
      "cell_type": "markdown",
      "metadata": {
        "id": "z3YmKaYBpYm8",
        "colab_type": "text"
      },
      "source": [
        "implementation and evaluation"
      ]
    },
    {
      "cell_type": "code",
      "metadata": {
        "colab_type": "code",
        "id": "PHKsHR4DqAUb",
        "colab": {
          "base_uri": "https://localhost:8080/",
          "height": 419
        },
        "outputId": "273cabff-e42d-4db5-b2ec-15774e918f14"
      },
      "source": [
        "\n",
        "X =df[['X2 house age', 'X3 distance to the nearest MRT station',\n",
        "       'X4 number of convenience stores', 'X5 latitude', 'X6 longitude' ]]\n",
        "y = df['Y house price of unit area']\n",
        "y\n",
        "X"
      ],
      "execution_count": 108,
      "outputs": [
        {
          "output_type": "execute_result",
          "data": {
            "text/html": [
              "<div>\n",
              "<style scoped>\n",
              "    .dataframe tbody tr th:only-of-type {\n",
              "        vertical-align: middle;\n",
              "    }\n",
              "\n",
              "    .dataframe tbody tr th {\n",
              "        vertical-align: top;\n",
              "    }\n",
              "\n",
              "    .dataframe thead th {\n",
              "        text-align: right;\n",
              "    }\n",
              "</style>\n",
              "<table border=\"1\" class=\"dataframe\">\n",
              "  <thead>\n",
              "    <tr style=\"text-align: right;\">\n",
              "      <th></th>\n",
              "      <th>X2 house age</th>\n",
              "      <th>X3 distance to the nearest MRT station</th>\n",
              "      <th>X4 number of convenience stores</th>\n",
              "      <th>X5 latitude</th>\n",
              "      <th>X6 longitude</th>\n",
              "    </tr>\n",
              "  </thead>\n",
              "  <tbody>\n",
              "    <tr>\n",
              "      <th>0</th>\n",
              "      <td>32.0</td>\n",
              "      <td>84.87882</td>\n",
              "      <td>10</td>\n",
              "      <td>24.98298</td>\n",
              "      <td>121.54024</td>\n",
              "    </tr>\n",
              "    <tr>\n",
              "      <th>1</th>\n",
              "      <td>19.5</td>\n",
              "      <td>306.59470</td>\n",
              "      <td>9</td>\n",
              "      <td>24.98034</td>\n",
              "      <td>121.53951</td>\n",
              "    </tr>\n",
              "    <tr>\n",
              "      <th>2</th>\n",
              "      <td>13.3</td>\n",
              "      <td>561.98450</td>\n",
              "      <td>5</td>\n",
              "      <td>24.98746</td>\n",
              "      <td>121.54391</td>\n",
              "    </tr>\n",
              "    <tr>\n",
              "      <th>3</th>\n",
              "      <td>13.3</td>\n",
              "      <td>561.98450</td>\n",
              "      <td>5</td>\n",
              "      <td>24.98746</td>\n",
              "      <td>121.54391</td>\n",
              "    </tr>\n",
              "    <tr>\n",
              "      <th>4</th>\n",
              "      <td>5.0</td>\n",
              "      <td>390.56840</td>\n",
              "      <td>5</td>\n",
              "      <td>24.97937</td>\n",
              "      <td>121.54245</td>\n",
              "    </tr>\n",
              "    <tr>\n",
              "      <th>...</th>\n",
              "      <td>...</td>\n",
              "      <td>...</td>\n",
              "      <td>...</td>\n",
              "      <td>...</td>\n",
              "      <td>...</td>\n",
              "    </tr>\n",
              "    <tr>\n",
              "      <th>409</th>\n",
              "      <td>13.7</td>\n",
              "      <td>4082.01500</td>\n",
              "      <td>0</td>\n",
              "      <td>24.94155</td>\n",
              "      <td>121.50381</td>\n",
              "    </tr>\n",
              "    <tr>\n",
              "      <th>410</th>\n",
              "      <td>5.6</td>\n",
              "      <td>90.45606</td>\n",
              "      <td>9</td>\n",
              "      <td>24.97433</td>\n",
              "      <td>121.54310</td>\n",
              "    </tr>\n",
              "    <tr>\n",
              "      <th>411</th>\n",
              "      <td>18.8</td>\n",
              "      <td>390.96960</td>\n",
              "      <td>7</td>\n",
              "      <td>24.97923</td>\n",
              "      <td>121.53986</td>\n",
              "    </tr>\n",
              "    <tr>\n",
              "      <th>412</th>\n",
              "      <td>8.1</td>\n",
              "      <td>104.81010</td>\n",
              "      <td>5</td>\n",
              "      <td>24.96674</td>\n",
              "      <td>121.54067</td>\n",
              "    </tr>\n",
              "    <tr>\n",
              "      <th>413</th>\n",
              "      <td>6.5</td>\n",
              "      <td>90.45606</td>\n",
              "      <td>9</td>\n",
              "      <td>24.97433</td>\n",
              "      <td>121.54310</td>\n",
              "    </tr>\n",
              "  </tbody>\n",
              "</table>\n",
              "<p>414 rows × 5 columns</p>\n",
              "</div>"
            ],
            "text/plain": [
              "     X2 house age  ...  X6 longitude\n",
              "0            32.0  ...     121.54024\n",
              "1            19.5  ...     121.53951\n",
              "2            13.3  ...     121.54391\n",
              "3            13.3  ...     121.54391\n",
              "4             5.0  ...     121.54245\n",
              "..            ...  ...           ...\n",
              "409          13.7  ...     121.50381\n",
              "410           5.6  ...     121.54310\n",
              "411          18.8  ...     121.53986\n",
              "412           8.1  ...     121.54067\n",
              "413           6.5  ...     121.54310\n",
              "\n",
              "[414 rows x 5 columns]"
            ]
          },
          "metadata": {
            "tags": []
          },
          "execution_count": 108
        }
      ]
    },
    {
      "cell_type": "code",
      "metadata": {
        "colab_type": "code",
        "id": "inUkSjB4p1sb",
        "colab": {}
      },
      "source": [
        ""
      ],
      "execution_count": 0,
      "outputs": []
    },
    {
      "cell_type": "code",
      "metadata": {
        "colab_type": "code",
        "id": "HMoYnvaxq65x",
        "colab": {
          "base_uri": "https://localhost:8080/",
          "height": 221
        },
        "outputId": "da368976-954b-44bb-b02a-a9b8ccccd58d"
      },
      "source": [
        "# We then Split our datset\n",
        "\n",
        "from sklearn.model_selection import train_test_split\n",
        "\n",
        "# Performing our split\n",
        "# ---\n",
        "# \n",
        "X_train, X_test, y_train, y_test = train_test_split(X, y, test_size=0.2, random_state=0)\n",
        "y_test"
      ],
      "execution_count": 116,
      "outputs": [
        {
          "output_type": "execute_result",
          "data": {
            "text/plain": [
              "356    45.3\n",
              "170    14.4\n",
              "224    46.0\n",
              "331    15.6\n",
              "306    50.2\n",
              "       ... \n",
              "308    53.0\n",
              "100    38.2\n",
              "7      46.7\n",
              "22     24.6\n",
              "68     36.2\n",
              "Name: Y house price of unit area, Length: 83, dtype: float64"
            ]
          },
          "metadata": {
            "tags": []
          },
          "execution_count": 116
        }
      ]
    },
    {
      "cell_type": "code",
      "metadata": {
        "colab_type": "code",
        "id": "F1qSiT2JrG6Z",
        "colab": {}
      },
      "source": [
        "# Performing feature scaling\n",
        "# ---\n",
        "#\n",
        "from sklearn.preprocessing import StandardScaler\n",
        "sc_X = StandardScaler()\n",
        "sc_y = StandardScaler()\n",
        "\n",
        "X_train = sc_X.fit_transform(X_train)\n",
        "X_test = sc_y.fit_transform(X_test)"
      ],
      "execution_count": 0,
      "outputs": []
    },
    {
      "cell_type": "code",
      "metadata": {
        "colab_type": "code",
        "outputId": "bd016f1a-47a3-4481-8ad4-43d4274dd796",
        "id": "ZmxEg1JzrQA2",
        "colab": {
          "base_uri": "https://localhost:8080/",
          "height": 68
        }
      },
      "source": [
        "# Applying our algorithm\n",
        "\n",
        "from sklearn.neighbors import KNeighborsRegressor\n",
        "  \n",
        "# We initialize our algorithm with one parameter, i.e. n_neigbours. \n",
        "# This is basically the value for the K. \n",
        "# There is no ideal value for K and it is selected after testing and evaluation, \n",
        "# however to start out, we can use 5  as it is the most commonly used value for KNN algorithm.\n",
        "# ---\n",
        "#  \n",
        "regressor = KNeighborsRegressor(30)\n",
        "regressor.fit(X_train, y_train)"
      ],
      "execution_count": 137,
      "outputs": [
        {
          "output_type": "execute_result",
          "data": {
            "text/plain": [
              "KNeighborsRegressor(algorithm='auto', leaf_size=30, metric='minkowski',\n",
              "                    metric_params=None, n_jobs=None, n_neighbors=30, p=2,\n",
              "                    weights='uniform')"
            ]
          },
          "metadata": {
            "tags": []
          },
          "execution_count": 137
        }
      ]
    },
    {
      "cell_type": "code",
      "metadata": {
        "colab_type": "code",
        "id": "lnPnUSK0pr0-",
        "colab": {}
      },
      "source": [
        ""
      ],
      "execution_count": 0,
      "outputs": []
    },
    {
      "cell_type": "code",
      "metadata": {
        "colab_type": "code",
        "id": "_3k0oCBprZE3",
        "colab": {}
      },
      "source": [
        "# Making predictions using our model\n",
        "# ---\n",
        "#  \n",
        "y_pred = regressor.predict(X_test)"
      ],
      "execution_count": 0,
      "outputs": []
    },
    {
      "cell_type": "code",
      "metadata": {
        "colab_type": "code",
        "outputId": "dce06f8c-fd6d-4a84-f315-5229c337d49a",
        "id": "z0d6J7o6rjIV",
        "colab": {
          "base_uri": "https://localhost:8080/",
          "height": 359
        }
      },
      "source": [
        "# Next, we compare actual output values for X_test with the predicted values\n",
        "# ---\n",
        "#\n",
        "df = pd.DataFrame({'Actual': y_test, 'Predicted': y_pred})\n",
        "df.head(10)"
      ],
      "execution_count": 139,
      "outputs": [
        {
          "output_type": "execute_result",
          "data": {
            "text/html": [
              "<div>\n",
              "<style scoped>\n",
              "    .dataframe tbody tr th:only-of-type {\n",
              "        vertical-align: middle;\n",
              "    }\n",
              "\n",
              "    .dataframe tbody tr th {\n",
              "        vertical-align: top;\n",
              "    }\n",
              "\n",
              "    .dataframe thead th {\n",
              "        text-align: right;\n",
              "    }\n",
              "</style>\n",
              "<table border=\"1\" class=\"dataframe\">\n",
              "  <thead>\n",
              "    <tr style=\"text-align: right;\">\n",
              "      <th></th>\n",
              "      <th>Actual</th>\n",
              "      <th>Predicted</th>\n",
              "    </tr>\n",
              "  </thead>\n",
              "  <tbody>\n",
              "    <tr>\n",
              "      <th>356</th>\n",
              "      <td>45.3</td>\n",
              "      <td>47.220000</td>\n",
              "    </tr>\n",
              "    <tr>\n",
              "      <th>170</th>\n",
              "      <td>14.4</td>\n",
              "      <td>21.643333</td>\n",
              "    </tr>\n",
              "    <tr>\n",
              "      <th>224</th>\n",
              "      <td>46.0</td>\n",
              "      <td>49.010000</td>\n",
              "    </tr>\n",
              "    <tr>\n",
              "      <th>331</th>\n",
              "      <td>15.6</td>\n",
              "      <td>21.643333</td>\n",
              "    </tr>\n",
              "    <tr>\n",
              "      <th>306</th>\n",
              "      <td>50.2</td>\n",
              "      <td>44.510000</td>\n",
              "    </tr>\n",
              "    <tr>\n",
              "      <th>325</th>\n",
              "      <td>38.1</td>\n",
              "      <td>39.330000</td>\n",
              "    </tr>\n",
              "    <tr>\n",
              "      <th>150</th>\n",
              "      <td>48.5</td>\n",
              "      <td>44.173333</td>\n",
              "    </tr>\n",
              "    <tr>\n",
              "      <th>10</th>\n",
              "      <td>41.4</td>\n",
              "      <td>40.836667</td>\n",
              "    </tr>\n",
              "    <tr>\n",
              "      <th>21</th>\n",
              "      <td>51.6</td>\n",
              "      <td>53.223333</td>\n",
              "    </tr>\n",
              "    <tr>\n",
              "      <th>268</th>\n",
              "      <td>40.1</td>\n",
              "      <td>41.833333</td>\n",
              "    </tr>\n",
              "  </tbody>\n",
              "</table>\n",
              "</div>"
            ],
            "text/plain": [
              "     Actual  Predicted\n",
              "356    45.3  47.220000\n",
              "170    14.4  21.643333\n",
              "224    46.0  49.010000\n",
              "331    15.6  21.643333\n",
              "306    50.2  44.510000\n",
              "325    38.1  39.330000\n",
              "150    48.5  44.173333\n",
              "10     41.4  40.836667\n",
              "21     51.6  53.223333\n",
              "268    40.1  41.833333"
            ]
          },
          "metadata": {
            "tags": []
          },
          "execution_count": 139
        }
      ]
    },
    {
      "cell_type": "code",
      "metadata": {
        "colab_type": "code",
        "outputId": "2bfb7bfb-9a1e-4d31-c47c-fdaf55102f8d",
        "id": "jXlUR4HSru8G",
        "colab": {
          "base_uri": "https://localhost:8080/",
          "height": 34
        }
      },
      "source": [
        "# Finally, we evaluate the algorithm\n",
        "# --- \n",
        "# The final step is to evaluate the performance of algorithm.\n",
        "# Root Mean Squared Error (RMSE) is the square root of the mean of the squared errors.\n",
        "# ---  \n",
        "#  \n",
        "print('Root Mean Squared Error:', np.sqrt(metrics.mean_squared_error(y_test, y_pred)))"
      ],
      "execution_count": 140,
      "outputs": [
        {
          "output_type": "stream",
          "text": [
            "Root Mean Squared Error: 7.733203649722777\n"
          ],
          "name": "stdout"
        }
      ]
    },
    {
      "cell_type": "code",
      "metadata": {
        "id": "dj7iqmgho-pm",
        "colab_type": "code",
        "colab": {
          "base_uri": "https://localhost:8080/",
          "height": 34
        },
        "outputId": "11aecae9-2b68-4da2-a5ad-95df3dc15a36"
      },
      "source": [
        "df.columns"
      ],
      "execution_count": 130,
      "outputs": [
        {
          "output_type": "execute_result",
          "data": {
            "text/plain": [
              "Index(['Actual', 'Predicted'], dtype='object')"
            ]
          },
          "metadata": {
            "tags": []
          },
          "execution_count": 130
        }
      ]
    },
    {
      "cell_type": "markdown",
      "metadata": {
        "colab_type": "text",
        "id": "IgEBQBE07JH-"
      },
      "source": [
        "## 4. Decision Trees Regression"
      ]
    },
    {
      "cell_type": "markdown",
      "metadata": {
        "colab_type": "text",
        "id": "eaPL6iDf7JIA"
      },
      "source": [
        "#### <font color=\"blue\">Example 4</font>"
      ]
    },
    {
      "cell_type": "markdown",
      "metadata": {
        "colab_type": "text",
        "id": "tqWcOlZ97JIB"
      },
      "source": [
        "##### <font color=\"blue\">Example</font>"
      ]
    },
    {
      "cell_type": "code",
      "metadata": {
        "colab_type": "code",
        "id": "MXpXZxEW7JIC",
        "colab": {}
      },
      "source": [
        "# Example\n",
        "# --- \n",
        "# Questions: Create a decision tree regression model using the following dataset.\n",
        "# ---\n",
        "# Dataset url = http://bit.ly/FishDatasetClean\n",
        "# NB: This dataset is clean version of the one \n",
        "# we used in the multiple regression example above.\n",
        "# ---\n",
        "# OUR CODE GOES BELOW\n",
        "# "
      ],
      "execution_count": 0,
      "outputs": []
    },
    {
      "cell_type": "markdown",
      "metadata": {
        "id": "rZdaSxPNmxW9",
        "colab_type": "text"
      },
      "source": [
        "##### Step 1. Loading our Data "
      ]
    },
    {
      "cell_type": "code",
      "metadata": {
        "id": "SjnbZeaGmioQ",
        "colab_type": "code",
        "outputId": "4782af16-d6c9-44d3-8268-01e39468706b",
        "colab": {
          "base_uri": "https://localhost:8080/",
          "height": 204
        }
      },
      "source": [
        "# Reading our data\n",
        "# ---\n",
        "# \n",
        "df = pd.read_csv('http://bit.ly/FishDatasetClean')\n",
        "df.head()"
      ],
      "execution_count": 0,
      "outputs": [
        {
          "output_type": "execute_result",
          "data": {
            "text/html": [
              "<div>\n",
              "<style scoped>\n",
              "    .dataframe tbody tr th:only-of-type {\n",
              "        vertical-align: middle;\n",
              "    }\n",
              "\n",
              "    .dataframe tbody tr th {\n",
              "        vertical-align: top;\n",
              "    }\n",
              "\n",
              "    .dataframe thead th {\n",
              "        text-align: right;\n",
              "    }\n",
              "</style>\n",
              "<table border=\"1\" class=\"dataframe\">\n",
              "  <thead>\n",
              "    <tr style=\"text-align: right;\">\n",
              "      <th></th>\n",
              "      <th>Weight</th>\n",
              "      <th>Length1</th>\n",
              "      <th>Length2</th>\n",
              "      <th>Length3</th>\n",
              "      <th>Height</th>\n",
              "      <th>Width</th>\n",
              "    </tr>\n",
              "  </thead>\n",
              "  <tbody>\n",
              "    <tr>\n",
              "      <th>0</th>\n",
              "      <td>242.0</td>\n",
              "      <td>23.2</td>\n",
              "      <td>25.4</td>\n",
              "      <td>30.0</td>\n",
              "      <td>11.5200</td>\n",
              "      <td>4.0200</td>\n",
              "    </tr>\n",
              "    <tr>\n",
              "      <th>1</th>\n",
              "      <td>290.0</td>\n",
              "      <td>24.0</td>\n",
              "      <td>26.3</td>\n",
              "      <td>31.2</td>\n",
              "      <td>12.4800</td>\n",
              "      <td>4.3056</td>\n",
              "    </tr>\n",
              "    <tr>\n",
              "      <th>2</th>\n",
              "      <td>340.0</td>\n",
              "      <td>23.9</td>\n",
              "      <td>26.5</td>\n",
              "      <td>31.1</td>\n",
              "      <td>12.3778</td>\n",
              "      <td>4.6961</td>\n",
              "    </tr>\n",
              "    <tr>\n",
              "      <th>3</th>\n",
              "      <td>363.0</td>\n",
              "      <td>26.3</td>\n",
              "      <td>29.0</td>\n",
              "      <td>33.5</td>\n",
              "      <td>12.7300</td>\n",
              "      <td>4.4555</td>\n",
              "    </tr>\n",
              "    <tr>\n",
              "      <th>4</th>\n",
              "      <td>430.0</td>\n",
              "      <td>26.5</td>\n",
              "      <td>29.0</td>\n",
              "      <td>34.0</td>\n",
              "      <td>12.4440</td>\n",
              "      <td>5.1340</td>\n",
              "    </tr>\n",
              "  </tbody>\n",
              "</table>\n",
              "</div>"
            ],
            "text/plain": [
              "   Weight  Length1  Length2  Length3   Height   Width\n",
              "0   242.0     23.2     25.4     30.0  11.5200  4.0200\n",
              "1   290.0     24.0     26.3     31.2  12.4800  4.3056\n",
              "2   340.0     23.9     26.5     31.1  12.3778  4.6961\n",
              "3   363.0     26.3     29.0     33.5  12.7300  4.4555\n",
              "4   430.0     26.5     29.0     34.0  12.4440  5.1340"
            ]
          },
          "metadata": {
            "tags": []
          },
          "execution_count": 159
        }
      ]
    },
    {
      "cell_type": "code",
      "metadata": {
        "id": "477dYK8zNrPc",
        "colab_type": "code",
        "outputId": "060f9f64-9dc9-4411-ecaf-174b4fde34ee",
        "colab": {
          "base_uri": "https://localhost:8080/",
          "height": 297
        }
      },
      "source": [
        "# Describing our dataset\n",
        "# ---\n",
        "# \n",
        "df.describe()"
      ],
      "execution_count": 0,
      "outputs": [
        {
          "output_type": "execute_result",
          "data": {
            "text/html": [
              "<div>\n",
              "<style scoped>\n",
              "    .dataframe tbody tr th:only-of-type {\n",
              "        vertical-align: middle;\n",
              "    }\n",
              "\n",
              "    .dataframe tbody tr th {\n",
              "        vertical-align: top;\n",
              "    }\n",
              "\n",
              "    .dataframe thead th {\n",
              "        text-align: right;\n",
              "    }\n",
              "</style>\n",
              "<table border=\"1\" class=\"dataframe\">\n",
              "  <thead>\n",
              "    <tr style=\"text-align: right;\">\n",
              "      <th></th>\n",
              "      <th>Weight</th>\n",
              "      <th>Length1</th>\n",
              "      <th>Length2</th>\n",
              "      <th>Length3</th>\n",
              "      <th>Height</th>\n",
              "      <th>Width</th>\n",
              "    </tr>\n",
              "  </thead>\n",
              "  <tbody>\n",
              "    <tr>\n",
              "      <th>count</th>\n",
              "      <td>159.000000</td>\n",
              "      <td>159.000000</td>\n",
              "      <td>159.000000</td>\n",
              "      <td>159.000000</td>\n",
              "      <td>159.000000</td>\n",
              "      <td>159.000000</td>\n",
              "    </tr>\n",
              "    <tr>\n",
              "      <th>mean</th>\n",
              "      <td>398.326415</td>\n",
              "      <td>26.247170</td>\n",
              "      <td>28.415723</td>\n",
              "      <td>31.227044</td>\n",
              "      <td>8.970994</td>\n",
              "      <td>4.417486</td>\n",
              "    </tr>\n",
              "    <tr>\n",
              "      <th>std</th>\n",
              "      <td>357.978317</td>\n",
              "      <td>9.996441</td>\n",
              "      <td>10.716328</td>\n",
              "      <td>11.610246</td>\n",
              "      <td>4.286208</td>\n",
              "      <td>1.685804</td>\n",
              "    </tr>\n",
              "    <tr>\n",
              "      <th>min</th>\n",
              "      <td>0.000000</td>\n",
              "      <td>7.500000</td>\n",
              "      <td>8.400000</td>\n",
              "      <td>8.800000</td>\n",
              "      <td>1.728400</td>\n",
              "      <td>1.047600</td>\n",
              "    </tr>\n",
              "    <tr>\n",
              "      <th>25%</th>\n",
              "      <td>120.000000</td>\n",
              "      <td>19.050000</td>\n",
              "      <td>21.000000</td>\n",
              "      <td>23.150000</td>\n",
              "      <td>5.944800</td>\n",
              "      <td>3.385650</td>\n",
              "    </tr>\n",
              "    <tr>\n",
              "      <th>50%</th>\n",
              "      <td>273.000000</td>\n",
              "      <td>25.200000</td>\n",
              "      <td>27.300000</td>\n",
              "      <td>29.400000</td>\n",
              "      <td>7.786000</td>\n",
              "      <td>4.248500</td>\n",
              "    </tr>\n",
              "    <tr>\n",
              "      <th>75%</th>\n",
              "      <td>650.000000</td>\n",
              "      <td>32.700000</td>\n",
              "      <td>35.500000</td>\n",
              "      <td>39.650000</td>\n",
              "      <td>12.365900</td>\n",
              "      <td>5.584500</td>\n",
              "    </tr>\n",
              "    <tr>\n",
              "      <th>max</th>\n",
              "      <td>1650.000000</td>\n",
              "      <td>59.000000</td>\n",
              "      <td>63.400000</td>\n",
              "      <td>68.000000</td>\n",
              "      <td>18.957000</td>\n",
              "      <td>8.142000</td>\n",
              "    </tr>\n",
              "  </tbody>\n",
              "</table>\n",
              "</div>"
            ],
            "text/plain": [
              "            Weight     Length1     Length2     Length3      Height       Width\n",
              "count   159.000000  159.000000  159.000000  159.000000  159.000000  159.000000\n",
              "mean    398.326415   26.247170   28.415723   31.227044    8.970994    4.417486\n",
              "std     357.978317    9.996441   10.716328   11.610246    4.286208    1.685804\n",
              "min       0.000000    7.500000    8.400000    8.800000    1.728400    1.047600\n",
              "25%     120.000000   19.050000   21.000000   23.150000    5.944800    3.385650\n",
              "50%     273.000000   25.200000   27.300000   29.400000    7.786000    4.248500\n",
              "75%     650.000000   32.700000   35.500000   39.650000   12.365900    5.584500\n",
              "max    1650.000000   59.000000   63.400000   68.000000   18.957000    8.142000"
            ]
          },
          "metadata": {
            "tags": []
          },
          "execution_count": 160
        }
      ]
    },
    {
      "cell_type": "markdown",
      "metadata": {
        "id": "PfdApR7Jmzm9",
        "colab_type": "text"
      },
      "source": [
        "##### Step 2, 3, 4: Checking, Cleaning, Exploratory Analysis and have already been performed on our dataset."
      ]
    },
    {
      "cell_type": "markdown",
      "metadata": {
        "id": "1eBPjiM8m14s",
        "colab_type": "text"
      },
      "source": [
        "##### Step 5. Implementation and Evaluation"
      ]
    },
    {
      "cell_type": "code",
      "metadata": {
        "id": "rprclJHCmiQA",
        "colab_type": "code",
        "colab": {}
      },
      "source": [
        "# Let's now split our dataset\n",
        "# ---\n",
        "# \n",
        "# Firstly, importing our train_test_split function\n",
        "# ---\n",
        "#\n",
        "from sklearn.model_selection import train_test_split\n",
        "\n",
        "X = df[['Length1', 'Length2', 'Length3', 'Height', 'Width']]\n",
        "y = df['Weight']\n",
        "X_train, X_test, y_train, y_test = train_test_split(X, y, test_size=.3, random_state=0)"
      ],
      "execution_count": 0,
      "outputs": []
    },
    {
      "cell_type": "code",
      "metadata": {
        "id": "xM2qYhp2miKc",
        "colab_type": "code",
        "outputId": "b7591621-f63f-4fe7-8663-1c456eb09e2a",
        "colab": {
          "base_uri": "https://localhost:8080/",
          "height": 119
        }
      },
      "source": [
        "# Lets now train our algorithm\n",
        "# ---\n",
        "#  \n",
        "\n",
        "from sklearn.tree import DecisionTreeRegressor \n",
        "\n",
        "# Create the Decision Tree regressor object here.\n",
        "# We only use the parameter random_state parameter with value 0\n",
        "# ---\n",
        "# \n",
        "regressor = DecisionTreeRegressor(random_state=0)\n",
        "regressor.fit(X_train, y_train)"
      ],
      "execution_count": 0,
      "outputs": [
        {
          "output_type": "execute_result",
          "data": {
            "text/plain": [
              "DecisionTreeRegressor(ccp_alpha=0.0, criterion='mse', max_depth=None,\n",
              "                      max_features=None, max_leaf_nodes=None,\n",
              "                      min_impurity_decrease=0.0, min_impurity_split=None,\n",
              "                      min_samples_leaf=1, min_samples_split=2,\n",
              "                      min_weight_fraction_leaf=0.0, presort='deprecated',\n",
              "                      random_state=0, splitter='best')"
            ]
          },
          "metadata": {
            "tags": []
          },
          "execution_count": 145
        }
      ]
    },
    {
      "cell_type": "code",
      "metadata": {
        "id": "W9FqCDpRpahT",
        "colab_type": "code",
        "colab": {}
      },
      "source": [
        "# Making predictions using our model\n",
        "# ---\n",
        "#  \n",
        "y_pred = regressor.predict(X_test)"
      ],
      "execution_count": 0,
      "outputs": []
    },
    {
      "cell_type": "code",
      "metadata": {
        "id": "8n51lYFVs9tg",
        "colab_type": "code",
        "outputId": "82e17b40-3f9f-45fd-aa5b-9acaec01125b",
        "colab": {
          "base_uri": "https://localhost:8080/",
          "height": 359
        }
      },
      "source": [
        "# Next, we compare actual output values for X_test with the predicted values\n",
        "# ---\n",
        "#\n",
        "df = pd.DataFrame({'Actual': y_test, 'Predicted': y_pred})\n",
        "df.sample(10)"
      ],
      "execution_count": 0,
      "outputs": [
        {
          "output_type": "execute_result",
          "data": {
            "text/html": [
              "<div>\n",
              "<style scoped>\n",
              "    .dataframe tbody tr th:only-of-type {\n",
              "        vertical-align: middle;\n",
              "    }\n",
              "\n",
              "    .dataframe tbody tr th {\n",
              "        vertical-align: top;\n",
              "    }\n",
              "\n",
              "    .dataframe thead th {\n",
              "        text-align: right;\n",
              "    }\n",
              "</style>\n",
              "<table border=\"1\" class=\"dataframe\">\n",
              "  <thead>\n",
              "    <tr style=\"text-align: right;\">\n",
              "      <th></th>\n",
              "      <th>Actual</th>\n",
              "      <th>Predicted</th>\n",
              "    </tr>\n",
              "  </thead>\n",
              "  <tbody>\n",
              "    <tr>\n",
              "      <th>119</th>\n",
              "      <td>850.0</td>\n",
              "      <td>1015.0</td>\n",
              "    </tr>\n",
              "    <tr>\n",
              "      <th>90</th>\n",
              "      <td>110.0</td>\n",
              "      <td>120.0</td>\n",
              "    </tr>\n",
              "    <tr>\n",
              "      <th>60</th>\n",
              "      <td>1000.0</td>\n",
              "      <td>955.0</td>\n",
              "    </tr>\n",
              "    <tr>\n",
              "      <th>143</th>\n",
              "      <td>1550.0</td>\n",
              "      <td>650.0</td>\n",
              "    </tr>\n",
              "    <tr>\n",
              "      <th>148</th>\n",
              "      <td>9.7</td>\n",
              "      <td>8.7</td>\n",
              "    </tr>\n",
              "    <tr>\n",
              "      <th>7</th>\n",
              "      <td>390.0</td>\n",
              "      <td>430.0</td>\n",
              "    </tr>\n",
              "    <tr>\n",
              "      <th>74</th>\n",
              "      <td>40.0</td>\n",
              "      <td>40.0</td>\n",
              "    </tr>\n",
              "    <tr>\n",
              "      <th>27</th>\n",
              "      <td>714.0</td>\n",
              "      <td>725.0</td>\n",
              "    </tr>\n",
              "    <tr>\n",
              "      <th>45</th>\n",
              "      <td>160.0</td>\n",
              "      <td>150.0</td>\n",
              "    </tr>\n",
              "    <tr>\n",
              "      <th>107</th>\n",
              "      <td>300.0</td>\n",
              "      <td>250.0</td>\n",
              "    </tr>\n",
              "  </tbody>\n",
              "</table>\n",
              "</div>"
            ],
            "text/plain": [
              "     Actual  Predicted\n",
              "119   850.0     1015.0\n",
              "90    110.0      120.0\n",
              "60   1000.0      955.0\n",
              "143  1550.0      650.0\n",
              "148     9.7        8.7\n",
              "7     390.0      430.0\n",
              "74     40.0       40.0\n",
              "27    714.0      725.0\n",
              "45    160.0      150.0\n",
              "107   300.0      250.0"
            ]
          },
          "metadata": {
            "tags": []
          },
          "execution_count": 147
        }
      ]
    },
    {
      "cell_type": "code",
      "metadata": {
        "id": "tuOEMtNDmh9O",
        "colab_type": "code",
        "outputId": "af40a658-99dc-4a57-df43-15bbf758ba1f",
        "colab": {
          "base_uri": "https://localhost:8080/",
          "height": 34
        }
      },
      "source": [
        "# Finally, we evaluating the algorithm\n",
        "# --- \n",
        "# The final step is to evaluate the performance of algorithm  \n",
        "# ---  \n",
        "#  \n",
        "print('Root Mean Squared Error:', np.sqrt(metrics.mean_squared_error(y_test, y_pred)))"
      ],
      "execution_count": 0,
      "outputs": [
        {
          "output_type": "stream",
          "text": [
            "Root Mean Squared Error: 205.0139116214637\n"
          ],
          "name": "stdout"
        }
      ]
    },
    {
      "cell_type": "markdown",
      "metadata": {
        "colab_type": "text",
        "id": "dgu9c21z7JIE"
      },
      "source": [
        "#### <font color=\"green\">Challenge 4</font>"
      ]
    },
    {
      "cell_type": "markdown",
      "metadata": {
        "colab_type": "text",
        "id": "gA_MBQoS7JIF"
      },
      "source": [
        "##### <font color=\"green\">Challenge</font>"
      ]
    },
    {
      "cell_type": "code",
      "metadata": {
        "colab_type": "code",
        "id": "n-IRWs3N7JIG",
        "colab": {}
      },
      "source": [
        "# Challenge \n",
        "# ---\n",
        "# Using decision trees, create a regression model using the following dataset.\n",
        "# ---\n",
        "# Dataset url = http://bit.ly/RealEstateDataset2\n",
        "# ---\n",
        "# OUR CODE GOES BELOW\n",
        "import numpy as np\n",
        "import pandas as pd\n",
        "import matplotlib.pyplot as plt\n"
      ],
      "execution_count": 0,
      "outputs": []
    },
    {
      "cell_type": "code",
      "metadata": {
        "id": "BlLO3bBL0U5T",
        "colab_type": "code",
        "colab": {
          "base_uri": "https://localhost:8080/",
          "height": 255
        },
        "outputId": "a543938c-c958-4976-f8d6-ed7fe42e5d5e"
      },
      "source": [
        "df=pd.read_csv('http://bit.ly/RealEstateDataset2')\n",
        "df.head"
      ],
      "execution_count": 149,
      "outputs": [
        {
          "output_type": "execute_result",
          "data": {
            "text/plain": [
              "<bound method NDFrame.head of       No  X1 transaction date  ...  X6 longitude  Y house price of unit area\n",
              "0      1             2012.917  ...     121.54024                        37.9\n",
              "1      2             2012.917  ...     121.53951                        42.2\n",
              "2      3             2013.583  ...     121.54391                        47.3\n",
              "3      4             2013.500  ...     121.54391                        54.8\n",
              "4      5             2012.833  ...     121.54245                        43.1\n",
              "..   ...                  ...  ...           ...                         ...\n",
              "409  410             2013.000  ...     121.50381                        15.4\n",
              "410  411             2012.667  ...     121.54310                        50.0\n",
              "411  412             2013.250  ...     121.53986                        40.6\n",
              "412  413             2013.000  ...     121.54067                        52.5\n",
              "413  414             2013.500  ...     121.54310                        63.9\n",
              "\n",
              "[414 rows x 8 columns]>"
            ]
          },
          "metadata": {
            "tags": []
          },
          "execution_count": 149
        }
      ]
    },
    {
      "cell_type": "code",
      "metadata": {
        "id": "wA5wZeYl0mYU",
        "colab_type": "code",
        "colab": {
          "base_uri": "https://localhost:8080/",
          "height": 331
        },
        "outputId": "35f47abd-ec7f-4983-d5ff-40762ea0c2ff"
      },
      "source": [
        "df.shape\n",
        "df.describe()"
      ],
      "execution_count": 152,
      "outputs": [
        {
          "output_type": "execute_result",
          "data": {
            "text/html": [
              "<div>\n",
              "<style scoped>\n",
              "    .dataframe tbody tr th:only-of-type {\n",
              "        vertical-align: middle;\n",
              "    }\n",
              "\n",
              "    .dataframe tbody tr th {\n",
              "        vertical-align: top;\n",
              "    }\n",
              "\n",
              "    .dataframe thead th {\n",
              "        text-align: right;\n",
              "    }\n",
              "</style>\n",
              "<table border=\"1\" class=\"dataframe\">\n",
              "  <thead>\n",
              "    <tr style=\"text-align: right;\">\n",
              "      <th></th>\n",
              "      <th>No</th>\n",
              "      <th>X1 transaction date</th>\n",
              "      <th>X2 house age</th>\n",
              "      <th>X3 distance to the nearest MRT station</th>\n",
              "      <th>X4 number of convenience stores</th>\n",
              "      <th>X5 latitude</th>\n",
              "      <th>X6 longitude</th>\n",
              "      <th>Y house price of unit area</th>\n",
              "    </tr>\n",
              "  </thead>\n",
              "  <tbody>\n",
              "    <tr>\n",
              "      <th>count</th>\n",
              "      <td>414.000000</td>\n",
              "      <td>414.000000</td>\n",
              "      <td>414.000000</td>\n",
              "      <td>414.000000</td>\n",
              "      <td>414.000000</td>\n",
              "      <td>414.000000</td>\n",
              "      <td>414.000000</td>\n",
              "      <td>414.000000</td>\n",
              "    </tr>\n",
              "    <tr>\n",
              "      <th>mean</th>\n",
              "      <td>207.500000</td>\n",
              "      <td>2013.148971</td>\n",
              "      <td>17.712560</td>\n",
              "      <td>1083.885689</td>\n",
              "      <td>4.094203</td>\n",
              "      <td>24.969030</td>\n",
              "      <td>121.533361</td>\n",
              "      <td>37.980193</td>\n",
              "    </tr>\n",
              "    <tr>\n",
              "      <th>std</th>\n",
              "      <td>119.655756</td>\n",
              "      <td>0.281967</td>\n",
              "      <td>11.392485</td>\n",
              "      <td>1262.109595</td>\n",
              "      <td>2.945562</td>\n",
              "      <td>0.012410</td>\n",
              "      <td>0.015347</td>\n",
              "      <td>13.606488</td>\n",
              "    </tr>\n",
              "    <tr>\n",
              "      <th>min</th>\n",
              "      <td>1.000000</td>\n",
              "      <td>2012.667000</td>\n",
              "      <td>0.000000</td>\n",
              "      <td>23.382840</td>\n",
              "      <td>0.000000</td>\n",
              "      <td>24.932070</td>\n",
              "      <td>121.473530</td>\n",
              "      <td>7.600000</td>\n",
              "    </tr>\n",
              "    <tr>\n",
              "      <th>25%</th>\n",
              "      <td>104.250000</td>\n",
              "      <td>2012.917000</td>\n",
              "      <td>9.025000</td>\n",
              "      <td>289.324800</td>\n",
              "      <td>1.000000</td>\n",
              "      <td>24.963000</td>\n",
              "      <td>121.528085</td>\n",
              "      <td>27.700000</td>\n",
              "    </tr>\n",
              "    <tr>\n",
              "      <th>50%</th>\n",
              "      <td>207.500000</td>\n",
              "      <td>2013.167000</td>\n",
              "      <td>16.100000</td>\n",
              "      <td>492.231300</td>\n",
              "      <td>4.000000</td>\n",
              "      <td>24.971100</td>\n",
              "      <td>121.538630</td>\n",
              "      <td>38.450000</td>\n",
              "    </tr>\n",
              "    <tr>\n",
              "      <th>75%</th>\n",
              "      <td>310.750000</td>\n",
              "      <td>2013.417000</td>\n",
              "      <td>28.150000</td>\n",
              "      <td>1454.279000</td>\n",
              "      <td>6.000000</td>\n",
              "      <td>24.977455</td>\n",
              "      <td>121.543305</td>\n",
              "      <td>46.600000</td>\n",
              "    </tr>\n",
              "    <tr>\n",
              "      <th>max</th>\n",
              "      <td>414.000000</td>\n",
              "      <td>2013.583000</td>\n",
              "      <td>43.800000</td>\n",
              "      <td>6488.021000</td>\n",
              "      <td>10.000000</td>\n",
              "      <td>25.014590</td>\n",
              "      <td>121.566270</td>\n",
              "      <td>117.500000</td>\n",
              "    </tr>\n",
              "  </tbody>\n",
              "</table>\n",
              "</div>"
            ],
            "text/plain": [
              "               No  ...  Y house price of unit area\n",
              "count  414.000000  ...                  414.000000\n",
              "mean   207.500000  ...                   37.980193\n",
              "std    119.655756  ...                   13.606488\n",
              "min      1.000000  ...                    7.600000\n",
              "25%    104.250000  ...                   27.700000\n",
              "50%    207.500000  ...                   38.450000\n",
              "75%    310.750000  ...                   46.600000\n",
              "max    414.000000  ...                  117.500000\n",
              "\n",
              "[8 rows x 8 columns]"
            ]
          },
          "metadata": {
            "tags": []
          },
          "execution_count": 152
        }
      ]
    },
    {
      "cell_type": "code",
      "metadata": {
        "id": "qKKzyW9-0t5J",
        "colab_type": "code",
        "colab": {
          "base_uri": "https://localhost:8080/",
          "height": 102
        },
        "outputId": "bbc00cb8-3b6f-4e18-b5d3-e229ec9854a5"
      },
      "source": [
        "df.columns"
      ],
      "execution_count": 153,
      "outputs": [
        {
          "output_type": "execute_result",
          "data": {
            "text/plain": [
              "Index(['No', 'X1 transaction date', 'X2 house age',\n",
              "       'X3 distance to the nearest MRT station',\n",
              "       'X4 number of convenience stores', 'X5 latitude', 'X6 longitude',\n",
              "       'Y house price of unit area'],\n",
              "      dtype='object')"
            ]
          },
          "metadata": {
            "tags": []
          },
          "execution_count": 153
        }
      ]
    },
    {
      "cell_type": "code",
      "metadata": {
        "id": "GQZrMEFK01Cd",
        "colab_type": "code",
        "colab": {}
      },
      "source": [
        ""
      ],
      "execution_count": 0,
      "outputs": []
    },
    {
      "cell_type": "code",
      "metadata": {
        "colab_type": "code",
        "id": "FZhTpKqn1aZ7",
        "colab": {}
      },
      "source": [
        "# Let's now split our dataset\n",
        "# ---\n",
        "# \n",
        "# Firstly, importing our train_test_split function\n",
        "# ---\n",
        "#\n",
        "from sklearn.model_selection import train_test_split\n",
        "\n",
        "X = df[[ 'X2 house age','X3 distance to the nearest MRT station',\n",
        "       'X4 number of convenience stores', 'X5 latitude', 'X6 longitude']]\n",
        "y = df['Y house price of unit area']\n",
        "X_train, X_test, y_train, y_test = train_test_split(X, y, test_size=.3, random_state=0)"
      ],
      "execution_count": 0,
      "outputs": []
    },
    {
      "cell_type": "code",
      "metadata": {
        "colab_type": "code",
        "id": "o7GvCVHY1_Cj",
        "colab": {}
      },
      "source": [
        "# Lets now train our algorithm\n",
        "# ---\n",
        "#  \n",
        "\n",
        "from sklearn.tree import DecisionTreeRegressor \n",
        "\n",
        "# Create the Decision Tree regressor object here.\n",
        "# We only use the parameter random_state parameter with value 0\n",
        "# ---\n",
        "# \n",
        "regressor = DecisionTreeRegressor(random_state=0)\n",
        "regressor.fit(X_train, y_train)"
      ],
      "execution_count": 0,
      "outputs": []
    },
    {
      "cell_type": "code",
      "metadata": {
        "colab_type": "code",
        "id": "pHLKvLWc2Uyo",
        "colab": {}
      },
      "source": [
        "# Making predictions using our model\n",
        "# ---\n",
        "#  \n",
        "y_pred = regressor.predict(X_test)"
      ],
      "execution_count": 0,
      "outputs": []
    },
    {
      "cell_type": "code",
      "metadata": {
        "colab_type": "code",
        "outputId": "9113529c-c2f6-42e1-8e85-076ead2527eb",
        "id": "nOv-11Qr2dbs",
        "colab": {
          "base_uri": "https://localhost:8080/",
          "height": 359
        }
      },
      "source": [
        "# Next, we compare actual output values for X_test with the predicted values\n",
        "# ---\n",
        "#\n",
        "df = pd.DataFrame({'Actual': y_test, 'Predicted': y_pred})\n",
        "df.head(10)"
      ],
      "execution_count": 160,
      "outputs": [
        {
          "output_type": "execute_result",
          "data": {
            "text/html": [
              "<div>\n",
              "<style scoped>\n",
              "    .dataframe tbody tr th:only-of-type {\n",
              "        vertical-align: middle;\n",
              "    }\n",
              "\n",
              "    .dataframe tbody tr th {\n",
              "        vertical-align: top;\n",
              "    }\n",
              "\n",
              "    .dataframe thead th {\n",
              "        text-align: right;\n",
              "    }\n",
              "</style>\n",
              "<table border=\"1\" class=\"dataframe\">\n",
              "  <thead>\n",
              "    <tr style=\"text-align: right;\">\n",
              "      <th></th>\n",
              "      <th>Actual</th>\n",
              "      <th>Predicted</th>\n",
              "    </tr>\n",
              "  </thead>\n",
              "  <tbody>\n",
              "    <tr>\n",
              "      <th>356</th>\n",
              "      <td>45.3</td>\n",
              "      <td>117.5</td>\n",
              "    </tr>\n",
              "    <tr>\n",
              "      <th>170</th>\n",
              "      <td>14.4</td>\n",
              "      <td>13.4</td>\n",
              "    </tr>\n",
              "    <tr>\n",
              "      <th>224</th>\n",
              "      <td>46.0</td>\n",
              "      <td>41.0</td>\n",
              "    </tr>\n",
              "    <tr>\n",
              "      <th>331</th>\n",
              "      <td>15.6</td>\n",
              "      <td>22.1</td>\n",
              "    </tr>\n",
              "    <tr>\n",
              "      <th>306</th>\n",
              "      <td>50.2</td>\n",
              "      <td>29.3</td>\n",
              "    </tr>\n",
              "    <tr>\n",
              "      <th>325</th>\n",
              "      <td>38.1</td>\n",
              "      <td>35.1</td>\n",
              "    </tr>\n",
              "    <tr>\n",
              "      <th>150</th>\n",
              "      <td>48.5</td>\n",
              "      <td>39.7</td>\n",
              "    </tr>\n",
              "    <tr>\n",
              "      <th>10</th>\n",
              "      <td>41.4</td>\n",
              "      <td>34.6</td>\n",
              "    </tr>\n",
              "    <tr>\n",
              "      <th>21</th>\n",
              "      <td>51.6</td>\n",
              "      <td>47.9</td>\n",
              "    </tr>\n",
              "    <tr>\n",
              "      <th>268</th>\n",
              "      <td>40.1</td>\n",
              "      <td>48.1</td>\n",
              "    </tr>\n",
              "  </tbody>\n",
              "</table>\n",
              "</div>"
            ],
            "text/plain": [
              "     Actual  Predicted\n",
              "356    45.3      117.5\n",
              "170    14.4       13.4\n",
              "224    46.0       41.0\n",
              "331    15.6       22.1\n",
              "306    50.2       29.3\n",
              "325    38.1       35.1\n",
              "150    48.5       39.7\n",
              "10     41.4       34.6\n",
              "21     51.6       47.9\n",
              "268    40.1       48.1"
            ]
          },
          "metadata": {
            "tags": []
          },
          "execution_count": 160
        }
      ]
    },
    {
      "cell_type": "code",
      "metadata": {
        "id": "Ni2c1g4Q2T1G",
        "colab_type": "code",
        "colab": {}
      },
      "source": [
        ""
      ],
      "execution_count": 0,
      "outputs": []
    },
    {
      "cell_type": "code",
      "metadata": {
        "colab_type": "code",
        "outputId": "f56e86e6-5e49-4ba7-c036-5abaaf5601d2",
        "id": "4U3ma9fl2nom",
        "colab": {
          "base_uri": "https://localhost:8080/",
          "height": 34
        }
      },
      "source": [
        "# Finally, we evaluating the algorithm\n",
        "# --- \n",
        "# The final step is to evaluate the performance of algorithm  \n",
        "# ---  \n",
        "#  \n",
        "print('Root Mean Squared Error:', np.sqrt(metrics.mean_squared_error(y_test, y_pred)))"
      ],
      "execution_count": 161,
      "outputs": [
        {
          "output_type": "stream",
          "text": [
            "Root Mean Squared Error: 10.726982386072569\n"
          ],
          "name": "stdout"
        }
      ]
    },
    {
      "cell_type": "code",
      "metadata": {
        "id": "sM9OkDBz2J4b",
        "colab_type": "code",
        "colab": {}
      },
      "source": [
        ""
      ],
      "execution_count": 0,
      "outputs": []
    },
    {
      "cell_type": "markdown",
      "metadata": {
        "colab_type": "text",
        "id": "RaeZQ2_t7eUC"
      },
      "source": [
        "## 5. Support Vector Regression"
      ]
    },
    {
      "cell_type": "markdown",
      "metadata": {
        "colab_type": "text",
        "id": "xFeIiJfV7eUF"
      },
      "source": [
        "#### <font color=\"blue\">Example 5</font>"
      ]
    },
    {
      "cell_type": "markdown",
      "metadata": {
        "colab_type": "text",
        "id": "bEC2w3co7eUG"
      },
      "source": [
        "##### <font color=\"blue\">Example</font>"
      ]
    },
    {
      "cell_type": "code",
      "metadata": {
        "colab_type": "code",
        "id": "10VjGvv-7eUH",
        "colab": {}
      },
      "source": [
        "# Example\n",
        "# --- \n",
        "# Question: Using the Support Vector Regressor, create a regression model using the clean dataset below.\n",
        "# ---\n",
        "# Dataset url = http://bit.ly/FishDatasetClean\n",
        "# ---\n",
        "# OUR CODE GOES BELOW\n",
        "# "
      ],
      "execution_count": 0,
      "outputs": []
    },
    {
      "cell_type": "markdown",
      "metadata": {
        "id": "ieW4rT26uUcL",
        "colab_type": "text"
      },
      "source": [
        "##### Step 1. Loading our Dataset"
      ]
    },
    {
      "cell_type": "code",
      "metadata": {
        "id": "Jh0gAyrircP7",
        "colab_type": "code",
        "outputId": "dc4ad106-4adb-49f5-8f49-2a6be98e1832",
        "colab": {
          "base_uri": "https://localhost:8080/",
          "height": 204
        }
      },
      "source": [
        "# Loading our dataset\n",
        "# ---\n",
        "# \n",
        "df = pd.read_csv('http://bit.ly/FishDatasetClean')\n",
        "df.head()"
      ],
      "execution_count": 0,
      "outputs": [
        {
          "output_type": "execute_result",
          "data": {
            "text/html": [
              "<div>\n",
              "<style scoped>\n",
              "    .dataframe tbody tr th:only-of-type {\n",
              "        vertical-align: middle;\n",
              "    }\n",
              "\n",
              "    .dataframe tbody tr th {\n",
              "        vertical-align: top;\n",
              "    }\n",
              "\n",
              "    .dataframe thead th {\n",
              "        text-align: right;\n",
              "    }\n",
              "</style>\n",
              "<table border=\"1\" class=\"dataframe\">\n",
              "  <thead>\n",
              "    <tr style=\"text-align: right;\">\n",
              "      <th></th>\n",
              "      <th>Weight</th>\n",
              "      <th>Length1</th>\n",
              "      <th>Length2</th>\n",
              "      <th>Length3</th>\n",
              "      <th>Height</th>\n",
              "      <th>Width</th>\n",
              "    </tr>\n",
              "  </thead>\n",
              "  <tbody>\n",
              "    <tr>\n",
              "      <th>0</th>\n",
              "      <td>242.0</td>\n",
              "      <td>23.2</td>\n",
              "      <td>25.4</td>\n",
              "      <td>30.0</td>\n",
              "      <td>11.5200</td>\n",
              "      <td>4.0200</td>\n",
              "    </tr>\n",
              "    <tr>\n",
              "      <th>1</th>\n",
              "      <td>290.0</td>\n",
              "      <td>24.0</td>\n",
              "      <td>26.3</td>\n",
              "      <td>31.2</td>\n",
              "      <td>12.4800</td>\n",
              "      <td>4.3056</td>\n",
              "    </tr>\n",
              "    <tr>\n",
              "      <th>2</th>\n",
              "      <td>340.0</td>\n",
              "      <td>23.9</td>\n",
              "      <td>26.5</td>\n",
              "      <td>31.1</td>\n",
              "      <td>12.3778</td>\n",
              "      <td>4.6961</td>\n",
              "    </tr>\n",
              "    <tr>\n",
              "      <th>3</th>\n",
              "      <td>363.0</td>\n",
              "      <td>26.3</td>\n",
              "      <td>29.0</td>\n",
              "      <td>33.5</td>\n",
              "      <td>12.7300</td>\n",
              "      <td>4.4555</td>\n",
              "    </tr>\n",
              "    <tr>\n",
              "      <th>4</th>\n",
              "      <td>430.0</td>\n",
              "      <td>26.5</td>\n",
              "      <td>29.0</td>\n",
              "      <td>34.0</td>\n",
              "      <td>12.4440</td>\n",
              "      <td>5.1340</td>\n",
              "    </tr>\n",
              "  </tbody>\n",
              "</table>\n",
              "</div>"
            ],
            "text/plain": [
              "   Weight  Length1  Length2  Length3   Height   Width\n",
              "0   242.0     23.2     25.4     30.0  11.5200  4.0200\n",
              "1   290.0     24.0     26.3     31.2  12.4800  4.3056\n",
              "2   340.0     23.9     26.5     31.1  12.3778  4.6961\n",
              "3   363.0     26.3     29.0     33.5  12.7300  4.4555\n",
              "4   430.0     26.5     29.0     34.0  12.4440  5.1340"
            ]
          },
          "metadata": {
            "tags": []
          },
          "execution_count": 161
        }
      ]
    },
    {
      "cell_type": "code",
      "metadata": {
        "id": "5KROjf7vN27c",
        "colab_type": "code",
        "outputId": "f3594350-1a07-45c3-cbb1-a8ebe60fa263",
        "colab": {
          "base_uri": "https://localhost:8080/",
          "height": 297
        }
      },
      "source": [
        "# Describing our dataset\n",
        "# ---\n",
        "# \n",
        "df.describe()"
      ],
      "execution_count": 0,
      "outputs": [
        {
          "output_type": "execute_result",
          "data": {
            "text/html": [
              "<div>\n",
              "<style scoped>\n",
              "    .dataframe tbody tr th:only-of-type {\n",
              "        vertical-align: middle;\n",
              "    }\n",
              "\n",
              "    .dataframe tbody tr th {\n",
              "        vertical-align: top;\n",
              "    }\n",
              "\n",
              "    .dataframe thead th {\n",
              "        text-align: right;\n",
              "    }\n",
              "</style>\n",
              "<table border=\"1\" class=\"dataframe\">\n",
              "  <thead>\n",
              "    <tr style=\"text-align: right;\">\n",
              "      <th></th>\n",
              "      <th>Weight</th>\n",
              "      <th>Length1</th>\n",
              "      <th>Length2</th>\n",
              "      <th>Length3</th>\n",
              "      <th>Height</th>\n",
              "      <th>Width</th>\n",
              "    </tr>\n",
              "  </thead>\n",
              "  <tbody>\n",
              "    <tr>\n",
              "      <th>count</th>\n",
              "      <td>159.000000</td>\n",
              "      <td>159.000000</td>\n",
              "      <td>159.000000</td>\n",
              "      <td>159.000000</td>\n",
              "      <td>159.000000</td>\n",
              "      <td>159.000000</td>\n",
              "    </tr>\n",
              "    <tr>\n",
              "      <th>mean</th>\n",
              "      <td>398.326415</td>\n",
              "      <td>26.247170</td>\n",
              "      <td>28.415723</td>\n",
              "      <td>31.227044</td>\n",
              "      <td>8.970994</td>\n",
              "      <td>4.417486</td>\n",
              "    </tr>\n",
              "    <tr>\n",
              "      <th>std</th>\n",
              "      <td>357.978317</td>\n",
              "      <td>9.996441</td>\n",
              "      <td>10.716328</td>\n",
              "      <td>11.610246</td>\n",
              "      <td>4.286208</td>\n",
              "      <td>1.685804</td>\n",
              "    </tr>\n",
              "    <tr>\n",
              "      <th>min</th>\n",
              "      <td>0.000000</td>\n",
              "      <td>7.500000</td>\n",
              "      <td>8.400000</td>\n",
              "      <td>8.800000</td>\n",
              "      <td>1.728400</td>\n",
              "      <td>1.047600</td>\n",
              "    </tr>\n",
              "    <tr>\n",
              "      <th>25%</th>\n",
              "      <td>120.000000</td>\n",
              "      <td>19.050000</td>\n",
              "      <td>21.000000</td>\n",
              "      <td>23.150000</td>\n",
              "      <td>5.944800</td>\n",
              "      <td>3.385650</td>\n",
              "    </tr>\n",
              "    <tr>\n",
              "      <th>50%</th>\n",
              "      <td>273.000000</td>\n",
              "      <td>25.200000</td>\n",
              "      <td>27.300000</td>\n",
              "      <td>29.400000</td>\n",
              "      <td>7.786000</td>\n",
              "      <td>4.248500</td>\n",
              "    </tr>\n",
              "    <tr>\n",
              "      <th>75%</th>\n",
              "      <td>650.000000</td>\n",
              "      <td>32.700000</td>\n",
              "      <td>35.500000</td>\n",
              "      <td>39.650000</td>\n",
              "      <td>12.365900</td>\n",
              "      <td>5.584500</td>\n",
              "    </tr>\n",
              "    <tr>\n",
              "      <th>max</th>\n",
              "      <td>1650.000000</td>\n",
              "      <td>59.000000</td>\n",
              "      <td>63.400000</td>\n",
              "      <td>68.000000</td>\n",
              "      <td>18.957000</td>\n",
              "      <td>8.142000</td>\n",
              "    </tr>\n",
              "  </tbody>\n",
              "</table>\n",
              "</div>"
            ],
            "text/plain": [
              "            Weight     Length1     Length2     Length3      Height       Width\n",
              "count   159.000000  159.000000  159.000000  159.000000  159.000000  159.000000\n",
              "mean    398.326415   26.247170   28.415723   31.227044    8.970994    4.417486\n",
              "std     357.978317    9.996441   10.716328   11.610246    4.286208    1.685804\n",
              "min       0.000000    7.500000    8.400000    8.800000    1.728400    1.047600\n",
              "25%     120.000000   19.050000   21.000000   23.150000    5.944800    3.385650\n",
              "50%     273.000000   25.200000   27.300000   29.400000    7.786000    4.248500\n",
              "75%     650.000000   32.700000   35.500000   39.650000   12.365900    5.584500\n",
              "max    1650.000000   59.000000   63.400000   68.000000   18.957000    8.142000"
            ]
          },
          "metadata": {
            "tags": []
          },
          "execution_count": 162
        }
      ]
    },
    {
      "cell_type": "markdown",
      "metadata": {
        "id": "QmLWHKAmeSq1",
        "colab_type": "text"
      },
      "source": [
        "##### Step 2, 3, 4: Checking, Cleaning, Exploratory Analysis and have already been performed on our dataset."
      ]
    },
    {
      "cell_type": "markdown",
      "metadata": {
        "id": "2QSb-k93uQLZ",
        "colab_type": "text"
      },
      "source": [
        "##### Step 5. Implementation and Evaluation"
      ]
    },
    {
      "cell_type": "code",
      "metadata": {
        "id": "p7RVlpDlrpvn",
        "colab_type": "code",
        "colab": {}
      },
      "source": [
        "# Splitting our dataset\n",
        "# ---\n",
        "# We’ll create the X and y variables by taking them from the dataset and\n",
        "# ---\n",
        "# \n",
        "X = df[['Length1', 'Length2', 'Length3', 'Height', 'Width']]\n",
        "y = df['Weight']"
      ],
      "execution_count": 0,
      "outputs": []
    },
    {
      "cell_type": "code",
      "metadata": {
        "id": "Af0jSgXfs8O2",
        "colab_type": "code",
        "colab": {}
      },
      "source": [
        "# We split our dataset as shown below\n",
        "# ---\n",
        "# The test size of 0.4 indicates we’ve used 40% of the data for testing. \n",
        "# Random_state ensures reproducibility.\n",
        "# ---\n",
        "#\n",
        "X_train, X_test, y_train, y_test = train_test_split(X, y, test_size=.4)"
      ],
      "execution_count": 0,
      "outputs": []
    },
    {
      "cell_type": "code",
      "metadata": {
        "id": "GEZwC_R1xz2x",
        "colab_type": "code",
        "colab": {}
      },
      "source": [
        "# Performing feature scaling\n",
        "# ---\n",
        "#\n",
        "from sklearn.preprocessing import StandardScaler\n",
        "sc_X = StandardScaler()\n",
        "sc_y = StandardScaler()\n",
        "\n",
        "X_train = sc_X.fit_transform(X_train)\n",
        "X_test = sc_y.fit_transform(X_test)"
      ],
      "execution_count": 0,
      "outputs": []
    },
    {
      "cell_type": "code",
      "metadata": {
        "id": "Ii2HzflmtRG2",
        "colab_type": "code",
        "outputId": "a9d07c55-ae3e-4213-8181-c57e5438f354",
        "colab": {
          "base_uri": "https://localhost:8080/",
          "height": 51
        }
      },
      "source": [
        "# Fitting in our model / Training our Algorithm / Fit the regressor to the scaled dataset\n",
        "# ---\n",
        "# We use the kernel type: 'linear'.\n",
        "# Other kernel types: rbf, polynomial, sigmoid\n",
        "# \n",
        "\n",
        "# We first import our model from sklearn.svm\n",
        "# ---\n",
        "# \n",
        "from sklearn.svm import SVR\n",
        "\n",
        "# Then perform our training/fitting\n",
        "# ---\n",
        "#\n",
        "regressor = SVR(kernel='linear')\n",
        "regressor.fit(X_train, y_train)"
      ],
      "execution_count": 0,
      "outputs": [
        {
          "output_type": "execute_result",
          "data": {
            "text/plain": [
              "SVR(C=1.0, cache_size=200, coef0=0.0, degree=3, epsilon=0.1, gamma='scale',\n",
              "    kernel='linear', max_iter=-1, shrinking=True, tol=0.001, verbose=False)"
            ]
          },
          "metadata": {
            "tags": []
          },
          "execution_count": 155
        }
      ]
    },
    {
      "cell_type": "code",
      "metadata": {
        "id": "y_tSR4iztUVt",
        "colab_type": "code",
        "colab": {}
      },
      "source": [
        "# Making predictions using our model\n",
        "# ---\n",
        "#  \n",
        "y_pred = regressor.predict(X_test)"
      ],
      "execution_count": 0,
      "outputs": []
    },
    {
      "cell_type": "code",
      "metadata": {
        "id": "7H9RYZB9g-XN",
        "colab_type": "code",
        "outputId": "9c4c4963-2284-4249-bab5-e20290c41873",
        "colab": {
          "base_uri": "https://localhost:8080/",
          "height": 34
        }
      },
      "source": [
        "# Finally, we evaluate our model\n",
        "# --- \n",
        "# The final step is to evaluate the performance of algorithm  \n",
        "# ---  \n",
        "#  \n",
        "print('Root Mean Squared Error:', np.sqrt(metrics.mean_squared_error(y_test, y_pred)))"
      ],
      "execution_count": 0,
      "outputs": [
        {
          "output_type": "stream",
          "text": [
            "Root Mean Squared Error: 194.1334512042152\n"
          ],
          "name": "stdout"
        }
      ]
    },
    {
      "cell_type": "markdown",
      "metadata": {
        "colab_type": "text",
        "id": "5UjUUJgY7eUJ"
      },
      "source": [
        "#### <font color=\"green\">Challenge 5</font>"
      ]
    },
    {
      "cell_type": "code",
      "metadata": {
        "colab_type": "code",
        "outputId": "9c4c4963-2284-4249-bab5-e20290c41873",
        "id": "6NCH7hGj5xtb",
        "colab": {
          "base_uri": "https://localhost:8080/",
          "height": 34
        }
      },
      "source": [
        "# Finally, we evaluate our model\n",
        "# --- \n",
        "# The final step is to evaluate the performance of algorithm  \n",
        "# ---  \n",
        "#  \n",
        "print('Root Mean Squared Error:', np.sqrt(metrics.mean_squared_error(y_test, y_pred)))"
      ],
      "execution_count": 0,
      "outputs": [
        {
          "output_type": "stream",
          "text": [
            "Root Mean Squared Error: 194.1334512042152\n"
          ],
          "name": "stdout"
        }
      ]
    },
    {
      "cell_type": "markdown",
      "metadata": {
        "colab_type": "text",
        "id": "LpbIBm897eUK"
      },
      "source": [
        "##### <font color=\"green\">Challenge</font>"
      ]
    },
    {
      "cell_type": "code",
      "metadata": {
        "colab_type": "code",
        "id": "ljuhnH0k7eUL",
        "colab": {}
      },
      "source": [
        "# Challenge \n",
        "# ---\n",
        "# Using SVM, create a regression model to predict price using the given dataset.\n",
        "# Once you do so, determine which models is better\n",
        "# ---\n",
        "# Dataset url = http://bit.ly/RealEstateDataset2\n",
        "# ---\n",
        "# OUR CODE GOES BELOW\n",
        "import numpy as np\n",
        "import pandas as pd\n",
        "import matplotlib.pyplot as plt\n",
        "\n"
      ],
      "execution_count": 0,
      "outputs": []
    },
    {
      "cell_type": "code",
      "metadata": {
        "id": "ti_rWZK74CIM",
        "colab_type": "code",
        "colab": {}
      },
      "source": [
        "df=pd.read_csv('http://bit.ly/RealEstateDataset2')\n",
        "#df.head\n",
        "#df.shape\n",
        "#df.describe()\n",
        "#df.sample()"
      ],
      "execution_count": 0,
      "outputs": []
    },
    {
      "cell_type": "code",
      "metadata": {
        "id": "PmL1Ypqk4eR3",
        "colab_type": "code",
        "colab": {}
      },
      "source": [
        ""
      ],
      "execution_count": 0,
      "outputs": []
    },
    {
      "cell_type": "code",
      "metadata": {
        "colab_type": "code",
        "id": "gkhB7urx4e9N",
        "colab": {}
      },
      "source": [
        "# Let's now split our dataset\n",
        "# ---\n",
        "# \n",
        "# Firstly, importing our train_test_split function\n",
        "# ---\n",
        "#\n",
        "from sklearn.model_selection import train_test_split\n",
        "\n",
        "X = df[[ 'X2 house age','X3 distance to the nearest MRT station',\n",
        "       'X4 number of convenience stores', 'X5 latitude', 'X6 longitude']]\n",
        "y = df['Y house price of unit area']\n",
        "X_train, X_test, y_train, y_test = train_test_split(X, y, test_size=.3, random_state=0)"
      ],
      "execution_count": 0,
      "outputs": []
    },
    {
      "cell_type": "code",
      "metadata": {
        "id": "kp11QwfR46GP",
        "colab_type": "code",
        "colab": {}
      },
      "source": [
        ""
      ],
      "execution_count": 0,
      "outputs": []
    },
    {
      "cell_type": "code",
      "metadata": {
        "colab_type": "code",
        "id": "jYxwlF4y46jV",
        "colab": {}
      },
      "source": [
        "# We split our dataset as shown below\n",
        "# ---\n",
        "# The test size of 0.4 indicates we’ve used 40% of the data for testing. \n",
        "# Random_state ensures reproducibility.\n",
        "# ---\n",
        "#\n",
        "X_train, X_test, y_train, y_test = train_test_split(X, y, test_size=.4)"
      ],
      "execution_count": 0,
      "outputs": []
    },
    {
      "cell_type": "code",
      "metadata": {
        "id": "eZHvHsZp5GE_",
        "colab_type": "code",
        "colab": {}
      },
      "source": [
        ""
      ],
      "execution_count": 0,
      "outputs": []
    },
    {
      "cell_type": "code",
      "metadata": {
        "colab_type": "code",
        "id": "Nuxnk1Jt5GcR",
        "colab": {}
      },
      "source": [
        "# Performing feature scaling\n",
        "# ---\n",
        "#\n",
        "from sklearn.preprocessing import StandardScaler\n",
        "sc_X = StandardScaler()\n",
        "sc_y = StandardScaler()\n",
        "\n",
        "X_train = sc_X.fit_transform(X_train)\n",
        "X_test = sc_y.fit_transform(X_test)"
      ],
      "execution_count": 0,
      "outputs": []
    },
    {
      "cell_type": "code",
      "metadata": {
        "colab_type": "code",
        "outputId": "a9d07c55-ae3e-4213-8181-c57e5438f354",
        "id": "3jWRJzM85P89",
        "colab": {
          "base_uri": "https://localhost:8080/",
          "height": 51
        }
      },
      "source": [
        "# Fitting in our model / Training our Algorithm / Fit the regressor to the scaled dataset\n",
        "# ---\n",
        "# We use the kernel type: 'linear'.\n",
        "# Other kernel types: rbf, polynomial, sigmoid\n",
        "# \n",
        "\n",
        "# We first import our model from sklearn.svm\n",
        "# ---\n",
        "# \n",
        "from sklearn.svm import SVR\n",
        "\n",
        "# Then perform our training/fitting\n",
        "# ---\n",
        "#\n",
        "regressor = SVR(kernel='linear')\n",
        "regressor.fit(X_train, y_train)"
      ],
      "execution_count": 0,
      "outputs": [
        {
          "output_type": "execute_result",
          "data": {
            "text/plain": [
              "SVR(C=1.0, cache_size=200, coef0=0.0, degree=3, epsilon=0.1, gamma='scale',\n",
              "    kernel='linear', max_iter=-1, shrinking=True, tol=0.001, verbose=False)"
            ]
          },
          "metadata": {
            "tags": []
          },
          "execution_count": 155
        }
      ]
    },
    {
      "cell_type": "code",
      "metadata": {
        "colab_type": "code",
        "id": "HinWMwh65bXq",
        "colab": {}
      },
      "source": [
        "# Making predictions using our model\n",
        "# ---\n",
        "#  \n",
        "y_pred = regressor.predict(X_test)"
      ],
      "execution_count": 0,
      "outputs": []
    },
    {
      "cell_type": "code",
      "metadata": {
        "colab_type": "code",
        "outputId": "6ec3bb23-2c4e-4b8b-acfb-1d7efc653245",
        "id": "WzqFMcqQ5qPz",
        "colab": {
          "base_uri": "https://localhost:8080/",
          "height": 359
        }
      },
      "source": [
        "# Next, we compare actual output values for X_test with the predicted values\n",
        "# ---\n",
        "#\n",
        "df = pd.DataFrame({'Actual': y_test, 'Predicted': y_pred})\n",
        "df.head(10)"
      ],
      "execution_count": 171,
      "outputs": [
        {
          "output_type": "execute_result",
          "data": {
            "text/html": [
              "<div>\n",
              "<style scoped>\n",
              "    .dataframe tbody tr th:only-of-type {\n",
              "        vertical-align: middle;\n",
              "    }\n",
              "\n",
              "    .dataframe tbody tr th {\n",
              "        vertical-align: top;\n",
              "    }\n",
              "\n",
              "    .dataframe thead th {\n",
              "        text-align: right;\n",
              "    }\n",
              "</style>\n",
              "<table border=\"1\" class=\"dataframe\">\n",
              "  <thead>\n",
              "    <tr style=\"text-align: right;\">\n",
              "      <th></th>\n",
              "      <th>Actual</th>\n",
              "      <th>Predicted</th>\n",
              "    </tr>\n",
              "  </thead>\n",
              "  <tbody>\n",
              "    <tr>\n",
              "      <th>386</th>\n",
              "      <td>55.3</td>\n",
              "      <td>117.5</td>\n",
              "    </tr>\n",
              "    <tr>\n",
              "      <th>36</th>\n",
              "      <td>22.9</td>\n",
              "      <td>117.5</td>\n",
              "    </tr>\n",
              "    <tr>\n",
              "      <th>66</th>\n",
              "      <td>50.7</td>\n",
              "      <td>117.5</td>\n",
              "    </tr>\n",
              "    <tr>\n",
              "      <th>139</th>\n",
              "      <td>42.5</td>\n",
              "      <td>117.5</td>\n",
              "    </tr>\n",
              "    <tr>\n",
              "      <th>126</th>\n",
              "      <td>62.9</td>\n",
              "      <td>117.5</td>\n",
              "    </tr>\n",
              "    <tr>\n",
              "      <th>296</th>\n",
              "      <td>34.1</td>\n",
              "      <td>117.5</td>\n",
              "    </tr>\n",
              "    <tr>\n",
              "      <th>380</th>\n",
              "      <td>53.3</td>\n",
              "      <td>117.5</td>\n",
              "    </tr>\n",
              "    <tr>\n",
              "      <th>191</th>\n",
              "      <td>37.8</td>\n",
              "      <td>117.5</td>\n",
              "    </tr>\n",
              "    <tr>\n",
              "      <th>402</th>\n",
              "      <td>28.5</td>\n",
              "      <td>117.5</td>\n",
              "    </tr>\n",
              "    <tr>\n",
              "      <th>206</th>\n",
              "      <td>44.0</td>\n",
              "      <td>117.5</td>\n",
              "    </tr>\n",
              "  </tbody>\n",
              "</table>\n",
              "</div>"
            ],
            "text/plain": [
              "     Actual  Predicted\n",
              "386    55.3      117.5\n",
              "36     22.9      117.5\n",
              "66     50.7      117.5\n",
              "139    42.5      117.5\n",
              "126    62.9      117.5\n",
              "296    34.1      117.5\n",
              "380    53.3      117.5\n",
              "191    37.8      117.5\n",
              "402    28.5      117.5\n",
              "206    44.0      117.5"
            ]
          },
          "metadata": {
            "tags": []
          },
          "execution_count": 171
        }
      ]
    },
    {
      "cell_type": "code",
      "metadata": {
        "colab_type": "code",
        "outputId": "4c40af88-8810-494c-b69b-dd8d9eb0ea1a",
        "id": "GiFj5Jg6511D",
        "colab": {
          "base_uri": "https://localhost:8080/",
          "height": 34
        }
      },
      "source": [
        "# Finally, we evaluate our model\n",
        "# --- \n",
        "# The final step is to evaluate the performance of algorithm  \n",
        "# ---  \n",
        "#  \n",
        "print('Root Mean Squared Error:', np.sqrt(metrics.mean_squared_error(y_test, y_pred)))"
      ],
      "execution_count": 174,
      "outputs": [
        {
          "output_type": "stream",
          "text": [
            "Root Mean Squared Error: 81.23187694080016\n"
          ],
          "name": "stdout"
        }
      ]
    }
  ]
}